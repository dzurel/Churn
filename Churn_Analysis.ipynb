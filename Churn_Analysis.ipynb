{
  "nbformat": 4,
  "nbformat_minor": 0,
  "metadata": {
    "colab": {
      "name": "Churn-Analysis.ipynb",
      "provenance": [],
      "collapsed_sections": [],
      "include_colab_link": true
    },
    "kernelspec": {
      "name": "python3",
      "display_name": "Python 3"
    },
    "accelerator": "GPU"
  },
  "cells": [
    {
      "cell_type": "markdown",
      "metadata": {
        "id": "view-in-github",
        "colab_type": "text"
      },
      "source": [
        "<a href=\"https://colab.research.google.com/github/dzurel/Churn/blob/master/Churn_Analysis.ipynb\" target=\"_parent\"><img src=\"https://colab.research.google.com/assets/colab-badge.svg\" alt=\"Open In Colab\"/></a>"
      ]
    },
    {
      "cell_type": "code",
      "metadata": {
        "id": "GHfbyNlQFzrb",
        "colab_type": "code",
        "colab": {}
      },
      "source": [
        "import numpy as np # linear algebra\n",
        "import pandas as pd # data processing, CSV file I/O (e.g. pd.read_csv)\n",
        "import pandas as pd\n",
        "import numpy as np\n",
        "import random\n",
        "import seaborn as sns\n",
        "import matplotlib.pyplot as plt\n",
        "import scipy.stats as stats\n",
        "import pylab\n",
        "from sklearn.model_selection import GridSearchCV\n",
        "from sklearn.metrics import accuracy_score\n",
        "pd.set_option('display.max_columns', None)"
      ],
      "execution_count": 0,
      "outputs": []
    },
    {
      "cell_type": "code",
      "metadata": {
        "id": "1efB6pZHEsXe",
        "colab_type": "code",
        "outputId": "f61bdf14-ba93-49f9-c723-a2666f8d803d",
        "colab": {
          "base_uri": "https://localhost:8080/",
          "height": 204
        }
      },
      "source": [
        "df = pd.read_csv(\"https://raw.githubusercontent.com/dzurel/Churn/master/Churn_Modelling.csv\")\n",
        "df.head()"
      ],
      "execution_count": 2,
      "outputs": [
        {
          "output_type": "execute_result",
          "data": {
            "text/html": [
              "<div>\n",
              "<style scoped>\n",
              "    .dataframe tbody tr th:only-of-type {\n",
              "        vertical-align: middle;\n",
              "    }\n",
              "\n",
              "    .dataframe tbody tr th {\n",
              "        vertical-align: top;\n",
              "    }\n",
              "\n",
              "    .dataframe thead th {\n",
              "        text-align: right;\n",
              "    }\n",
              "</style>\n",
              "<table border=\"1\" class=\"dataframe\">\n",
              "  <thead>\n",
              "    <tr style=\"text-align: right;\">\n",
              "      <th></th>\n",
              "      <th>RowNumber</th>\n",
              "      <th>CustomerId</th>\n",
              "      <th>Surname</th>\n",
              "      <th>CreditScore</th>\n",
              "      <th>Geography</th>\n",
              "      <th>Gender</th>\n",
              "      <th>Age</th>\n",
              "      <th>Tenure</th>\n",
              "      <th>Balance</th>\n",
              "      <th>NumOfProducts</th>\n",
              "      <th>HasCrCard</th>\n",
              "      <th>IsActiveMember</th>\n",
              "      <th>EstimatedSalary</th>\n",
              "      <th>Exited</th>\n",
              "    </tr>\n",
              "  </thead>\n",
              "  <tbody>\n",
              "    <tr>\n",
              "      <th>0</th>\n",
              "      <td>1</td>\n",
              "      <td>15634602</td>\n",
              "      <td>Hargrave</td>\n",
              "      <td>619</td>\n",
              "      <td>France</td>\n",
              "      <td>Female</td>\n",
              "      <td>42</td>\n",
              "      <td>2</td>\n",
              "      <td>0.00</td>\n",
              "      <td>1</td>\n",
              "      <td>1</td>\n",
              "      <td>1</td>\n",
              "      <td>101348.88</td>\n",
              "      <td>1</td>\n",
              "    </tr>\n",
              "    <tr>\n",
              "      <th>1</th>\n",
              "      <td>2</td>\n",
              "      <td>15647311</td>\n",
              "      <td>Hill</td>\n",
              "      <td>608</td>\n",
              "      <td>Spain</td>\n",
              "      <td>Female</td>\n",
              "      <td>41</td>\n",
              "      <td>1</td>\n",
              "      <td>83807.86</td>\n",
              "      <td>1</td>\n",
              "      <td>0</td>\n",
              "      <td>1</td>\n",
              "      <td>112542.58</td>\n",
              "      <td>0</td>\n",
              "    </tr>\n",
              "    <tr>\n",
              "      <th>2</th>\n",
              "      <td>3</td>\n",
              "      <td>15619304</td>\n",
              "      <td>Onio</td>\n",
              "      <td>502</td>\n",
              "      <td>France</td>\n",
              "      <td>Female</td>\n",
              "      <td>42</td>\n",
              "      <td>8</td>\n",
              "      <td>159660.80</td>\n",
              "      <td>3</td>\n",
              "      <td>1</td>\n",
              "      <td>0</td>\n",
              "      <td>113931.57</td>\n",
              "      <td>1</td>\n",
              "    </tr>\n",
              "    <tr>\n",
              "      <th>3</th>\n",
              "      <td>4</td>\n",
              "      <td>15701354</td>\n",
              "      <td>Boni</td>\n",
              "      <td>699</td>\n",
              "      <td>France</td>\n",
              "      <td>Female</td>\n",
              "      <td>39</td>\n",
              "      <td>1</td>\n",
              "      <td>0.00</td>\n",
              "      <td>2</td>\n",
              "      <td>0</td>\n",
              "      <td>0</td>\n",
              "      <td>93826.63</td>\n",
              "      <td>0</td>\n",
              "    </tr>\n",
              "    <tr>\n",
              "      <th>4</th>\n",
              "      <td>5</td>\n",
              "      <td>15737888</td>\n",
              "      <td>Mitchell</td>\n",
              "      <td>850</td>\n",
              "      <td>Spain</td>\n",
              "      <td>Female</td>\n",
              "      <td>43</td>\n",
              "      <td>2</td>\n",
              "      <td>125510.82</td>\n",
              "      <td>1</td>\n",
              "      <td>1</td>\n",
              "      <td>1</td>\n",
              "      <td>79084.10</td>\n",
              "      <td>0</td>\n",
              "    </tr>\n",
              "  </tbody>\n",
              "</table>\n",
              "</div>"
            ],
            "text/plain": [
              "   RowNumber  CustomerId   Surname  CreditScore Geography  Gender  Age  \\\n",
              "0          1    15634602  Hargrave          619    France  Female   42   \n",
              "1          2    15647311      Hill          608     Spain  Female   41   \n",
              "2          3    15619304      Onio          502    France  Female   42   \n",
              "3          4    15701354      Boni          699    France  Female   39   \n",
              "4          5    15737888  Mitchell          850     Spain  Female   43   \n",
              "\n",
              "   Tenure    Balance  NumOfProducts  HasCrCard  IsActiveMember  \\\n",
              "0       2       0.00              1          1               1   \n",
              "1       1   83807.86              1          0               1   \n",
              "2       8  159660.80              3          1               0   \n",
              "3       1       0.00              2          0               0   \n",
              "4       2  125510.82              1          1               1   \n",
              "\n",
              "   EstimatedSalary  Exited  \n",
              "0        101348.88       1  \n",
              "1        112542.58       0  \n",
              "2        113931.57       1  \n",
              "3         93826.63       0  \n",
              "4         79084.10       0  "
            ]
          },
          "metadata": {
            "tags": []
          },
          "execution_count": 2
        }
      ]
    },
    {
      "cell_type": "code",
      "metadata": {
        "id": "fqNxFwecHDmW",
        "colab_type": "code",
        "outputId": "2075a532-7708-4d35-d906-4b827dd474b7",
        "colab": {
          "base_uri": "https://localhost:8080/",
          "height": 34
        }
      },
      "source": [
        "df.shape"
      ],
      "execution_count": 3,
      "outputs": [
        {
          "output_type": "execute_result",
          "data": {
            "text/plain": [
              "(10000, 14)"
            ]
          },
          "metadata": {
            "tags": []
          },
          "execution_count": 3
        }
      ]
    },
    {
      "cell_type": "code",
      "metadata": {
        "id": "Q2BBYC_7roUB",
        "colab_type": "code",
        "colab": {}
      },
      "source": [
        "df_e0 = df.loc[df.Exited == 0, :]\n",
        "df_e1 = df.loc[df.Exited == 1, :]"
      ],
      "execution_count": 0,
      "outputs": []
    },
    {
      "cell_type": "code",
      "metadata": {
        "id": "NPF3MAm0rU9w",
        "colab_type": "code",
        "colab": {
          "base_uri": "https://localhost:8080/",
          "height": 391
        },
        "outputId": "d3f4dee4-a879-4e90-a5c8-b98943f69680"
      },
      "source": [
        "plt.figure(figsize=(14,12))\n",
        "plt.subplot(2,2,1)\n",
        "sns.distplot(df_e0['Age'])\n",
        "plt.ylabel('PDF')\n",
        "plt.title('Still with Bank')\n",
        "plt.subplot(2,2,2)\n",
        "sns.distplot(df_e1['Age'])\n",
        "plt.ylabel('PDF')\n",
        "plt.title('Left the Bank')\n"
      ],
      "execution_count": 5,
      "outputs": [
        {
          "output_type": "execute_result",
          "data": {
            "text/plain": [
              "Text(0.5, 1.0, 'Left the Bank')"
            ]
          },
          "metadata": {
            "tags": []
          },
          "execution_count": 5
        },
        {
          "output_type": "display_data",
          "data": {
            "image/png": "[encoded data removed]",
            "text/plain": [
              "<Figure size 1008x864 with 2 Axes>"
            ]
          },
          "metadata": {
            "tags": []
          }
        }
      ]
    },
    {
      "cell_type": "code",
      "metadata": {
        "id": "StzaXGl8r784",
        "colab_type": "code",
        "colab": {
          "base_uri": "https://localhost:8080/",
          "height": 296
        },
        "outputId": "13bb4061-5e2d-4290-945b-587cf01aae6f"
      },
      "source": [
        "sns.countplot(df.Gender, hue=df.Exited)"
      ],
      "execution_count": 6,
      "outputs": [
        {
          "output_type": "execute_result",
          "data": {
            "text/plain": [
              "<matplotlib.axes._subplots.AxesSubplot at 0x7f8401f908d0>"
            ]
          },
          "metadata": {
            "tags": []
          },
          "execution_count": 6
        },
        {
          "output_type": "display_data",
          "data": {
            "image/png": "[encoded data removed]",
            "text/plain": [
              "<Figure size 432x288 with 1 Axes>"
            ]
          },
          "metadata": {
            "tags": []
          }
        }
      ]
    },
    {
      "cell_type": "markdown",
      "metadata": {
        "id": "StkJMeiasAA7",
        "colab_type": "text"
      },
      "source": [
        "### Inference\n",
        "More female have left the bank than the male. The percentage of females left the bank is much higher than percentage of men who have left the bank."
      ]
    },
    {
      "cell_type": "code",
      "metadata": {
        "id": "zFL9937isIsI",
        "colab_type": "code",
        "colab": {
          "base_uri": "https://localhost:8080/",
          "height": 34
        },
        "outputId": "b775b150-f1d2-4f71-c6e9-0021e4b889ec"
      },
      "source": [
        "perc_f_e1 = np.sum(df_e1.Gender == 'Female')*100 / np.sum(df.Gender == 'Female')\n",
        "perc_m_e1 = np.sum(df_e1.Gender == 'Male')*100 / np.sum(df.Gender == 'Male')\n",
        "perc_f_e1, perc_m_e1"
      ],
      "execution_count": 7,
      "outputs": [
        {
          "output_type": "execute_result",
          "data": {
            "text/plain": [
              "(25.071538630860665, 16.455928165658786)"
            ]
          },
          "metadata": {
            "tags": []
          },
          "execution_count": 7
        }
      ]
    },
    {
      "cell_type": "code",
      "metadata": {
        "id": "0Qht6bZCsISk",
        "colab_type": "code",
        "colab": {
          "base_uri": "https://localhost:8080/",
          "height": 296
        },
        "outputId": "7b585c6a-93ad-4948-d755-ae3e8b8addbc"
      },
      "source": [
        "sns.countplot(df.Geography, hue=df.Exited)"
      ],
      "execution_count": 8,
      "outputs": [
        {
          "output_type": "execute_result",
          "data": {
            "text/plain": [
              "<matplotlib.axes._subplots.AxesSubplot at 0x7f84018548d0>"
            ]
          },
          "metadata": {
            "tags": []
          },
          "execution_count": 8
        },
        {
          "output_type": "display_data",
          "data": {
            "image/png": "[encoded data removed]",
            "text/plain": [
              "<Figure size 432x288 with 1 Axes>"
            ]
          },
          "metadata": {
            "tags": []
          }
        }
      ]
    },
    {
      "cell_type": "code",
      "metadata": {
        "id": "Xbn9_7Z8s5SK",
        "colab_type": "code",
        "colab": {
          "base_uri": "https://localhost:8080/",
          "height": 34
        },
        "outputId": "14dc5f11-225e-40c0-bad5-96b01729d5c4"
      },
      "source": [
        "perc_gf_e1 = np.sum(df_e1.Geography == 'France')*100 / np.sum(df.Geography == 'France')\n",
        "perc_gs_e1 = np.sum(df_e1.Geography == 'Spain')*100 / np.sum(df.Geography == 'Spain')\n",
        "perc_gg_e1 = np.sum(df_e1.Geography == 'Germany')*100 / np.sum(df.Geography == 'Germany')\n",
        "perc_gf_e1, perc_gs_e1, perc_gg_e1"
      ],
      "execution_count": 9,
      "outputs": [
        {
          "output_type": "execute_result",
          "data": {
            "text/plain": [
              "(16.15476665337056, 16.67339523617279, 32.44320446392985)"
            ]
          },
          "metadata": {
            "tags": []
          },
          "execution_count": 9
        }
      ]
    },
    {
      "cell_type": "markdown",
      "metadata": {
        "id": "IrQisffNs8Je",
        "colab_type": "text"
      },
      "source": [
        "### Inference\n",
        "It seems the highest percentage of people left by Geography is from Germany."
      ]
    },
    {
      "cell_type": "code",
      "metadata": {
        "id": "3GFZxWV7aVdz",
        "colab_type": "code",
        "colab": {
          "base_uri": "https://localhost:8080/",
          "height": 139
        },
        "outputId": "10788002-b796-4ce1-c726-b68d32aabc5d"
      },
      "source": [
        "X = df.iloc[:,3:-1].values\n",
        "y= df.iloc[:,-1].values\n",
        "\n",
        "\n",
        "#Encoding\n",
        "from sklearn.preprocessing import LabelEncoder, OneHotEncoder\n",
        "\n",
        "le_1= LabelEncoder()\n",
        "X[:,1]=le_1.fit_transform(X[:,1])\n",
        "le_2 = LabelEncoder()\n",
        "X[:,2]=le_2.fit_transform(X[:,2])\n",
        "oh= OneHotEncoder(categorical_features=[1])\n",
        "X=oh.fit_transform(X).toarray()\n",
        "\n",
        "X = X[:,1:]\n",
        "\n",
        "\n",
        "#splitting\n",
        "from sklearn.model_selection import train_test_split\n",
        "X_train, X_test, y_train, y_test = train_test_split(X,y, test_size=0.2, random_state=0)"
      ],
      "execution_count": 10,
      "outputs": [
        {
          "output_type": "stream",
          "text": [
            "/usr/local/lib/python3.6/dist-packages/sklearn/preprocessing/_encoders.py:415: FutureWarning: The handling of integer data will change in version 0.22. Currently, the categories are determined based on the range [0, max(values)], while in the future they will be determined based on the unique values.\n",
            "If you want the future behaviour and silence this warning, you can specify \"categories='auto'\".\n",
            "In case you used a LabelEncoder before this OneHotEncoder to convert the categories to integers, then you can now use the OneHotEncoder directly.\n",
            "  warnings.warn(msg, FutureWarning)\n",
            "/usr/local/lib/python3.6/dist-packages/sklearn/preprocessing/_encoders.py:451: DeprecationWarning: The 'categorical_features' keyword is deprecated in version 0.20 and will be removed in 0.22. You can use the ColumnTransformer instead.\n",
            "  \"use the ColumnTransformer instead.\", DeprecationWarning)\n"
          ],
          "name": "stderr"
        }
      ]
    },
    {
      "cell_type": "markdown",
      "metadata": {
        "id": "KuFSTGNUIc7L",
        "colab_type": "text"
      },
      "source": [
        "Checking the database to see if there is any null value"
      ]
    },
    {
      "cell_type": "code",
      "metadata": {
        "id": "KqxB6w4GIap5",
        "colab_type": "code",
        "outputId": "745cd47c-07ac-4f9a-b217-a995871a38ae",
        "colab": {
          "base_uri": "https://localhost:8080/",
          "height": 272
        }
      },
      "source": [
        "df.isnull().sum()"
      ],
      "execution_count": 11,
      "outputs": [
        {
          "output_type": "execute_result",
          "data": {
            "text/plain": [
              "RowNumber          0\n",
              "CustomerId         0\n",
              "Surname            0\n",
              "CreditScore        0\n",
              "Geography          0\n",
              "Gender             0\n",
              "Age                0\n",
              "Tenure             0\n",
              "Balance            0\n",
              "NumOfProducts      0\n",
              "HasCrCard          0\n",
              "IsActiveMember     0\n",
              "EstimatedSalary    0\n",
              "Exited             0\n",
              "dtype: int64"
            ]
          },
          "metadata": {
            "tags": []
          },
          "execution_count": 11
        }
      ]
    },
    {
      "cell_type": "code",
      "metadata": {
        "id": "XHcBDa9oaSrx",
        "colab_type": "code",
        "colab": {}
      },
      "source": [
        ""
      ],
      "execution_count": 0,
      "outputs": []
    },
    {
      "cell_type": "markdown",
      "metadata": {
        "id": "Coih3L_6HT_0",
        "colab_type": "text"
      },
      "source": [
        "Dropping unnecessary columns"
      ]
    },
    {
      "cell_type": "code",
      "metadata": {
        "id": "2kzRr4iiHPcA",
        "colab_type": "code",
        "colab": {}
      },
      "source": [
        "df= df.drop(['RowNumber', 'CustomerId', 'Surname'], axis =1)"
      ],
      "execution_count": 0,
      "outputs": []
    },
    {
      "cell_type": "markdown",
      "metadata": {
        "id": "YHJwlIIyHexG",
        "colab_type": "text"
      },
      "source": [
        "We can see that our target column is Exited. Lets examine it."
      ]
    },
    {
      "cell_type": "code",
      "metadata": {
        "id": "ZIaezi7BHY3W",
        "colab_type": "code",
        "outputId": "fb6fce56-fc53-4d60-88c0-60aea702f4f5",
        "colab": {
          "base_uri": "https://localhost:8080/",
          "height": 68
        }
      },
      "source": [
        "df.Exited.value_counts()"
      ],
      "execution_count": 13,
      "outputs": [
        {
          "output_type": "execute_result",
          "data": {
            "text/plain": [
              "0    7963\n",
              "1    2037\n",
              "Name: Exited, dtype: int64"
            ]
          },
          "metadata": {
            "tags": []
          },
          "execution_count": 13
        }
      ]
    },
    {
      "cell_type": "code",
      "metadata": {
        "id": "2X9klWMXHj6R",
        "colab_type": "code",
        "outputId": "67844d7a-6f66-44fb-c2e0-49964efd7079",
        "colab": {
          "base_uri": "https://localhost:8080/",
          "height": 289
        }
      },
      "source": [
        "df.info()"
      ],
      "execution_count": 14,
      "outputs": [
        {
          "output_type": "stream",
          "text": [
            "<class 'pandas.core.frame.DataFrame'>\n",
            "RangeIndex: 10000 entries, 0 to 9999\n",
            "Data columns (total 11 columns):\n",
            "CreditScore        10000 non-null int64\n",
            "Geography          10000 non-null object\n",
            "Gender             10000 non-null object\n",
            "Age                10000 non-null int64\n",
            "Tenure             10000 non-null int64\n",
            "Balance            10000 non-null float64\n",
            "NumOfProducts      10000 non-null int64\n",
            "HasCrCard          10000 non-null int64\n",
            "IsActiveMember     10000 non-null int64\n",
            "EstimatedSalary    10000 non-null float64\n",
            "Exited             10000 non-null int64\n",
            "dtypes: float64(2), int64(7), object(2)\n",
            "memory usage: 859.5+ KB\n"
          ],
          "name": "stdout"
        }
      ]
    },
    {
      "cell_type": "code",
      "metadata": {
        "id": "V7-sOAURIM60",
        "colab_type": "code",
        "outputId": "8e22f477-1bb7-4760-c132-7c5a05bae447",
        "colab": {
          "base_uri": "https://localhost:8080/",
          "height": 297
        }
      },
      "source": [
        "df.describe()"
      ],
      "execution_count": 15,
      "outputs": [
        {
          "output_type": "execute_result",
          "data": {
            "text/html": [
              "<div>\n",
              "<style scoped>\n",
              "    .dataframe tbody tr th:only-of-type {\n",
              "        vertical-align: middle;\n",
              "    }\n",
              "\n",
              "    .dataframe tbody tr th {\n",
              "        vertical-align: top;\n",
              "    }\n",
              "\n",
              "    .dataframe thead th {\n",
              "        text-align: right;\n",
              "    }\n",
              "</style>\n",
              "<table border=\"1\" class=\"dataframe\">\n",
              "  <thead>\n",
              "    <tr style=\"text-align: right;\">\n",
              "      <th></th>\n",
              "      <th>CreditScore</th>\n",
              "      <th>Age</th>\n",
              "      <th>Tenure</th>\n",
              "      <th>Balance</th>\n",
              "      <th>NumOfProducts</th>\n",
              "      <th>HasCrCard</th>\n",
              "      <th>IsActiveMember</th>\n",
              "      <th>EstimatedSalary</th>\n",
              "      <th>Exited</th>\n",
              "    </tr>\n",
              "  </thead>\n",
              "  <tbody>\n",
              "    <tr>\n",
              "      <th>count</th>\n",
              "      <td>10000.000000</td>\n",
              "      <td>10000.000000</td>\n",
              "      <td>10000.000000</td>\n",
              "      <td>10000.000000</td>\n",
              "      <td>10000.000000</td>\n",
              "      <td>10000.00000</td>\n",
              "      <td>10000.000000</td>\n",
              "      <td>10000.000000</td>\n",
              "      <td>10000.000000</td>\n",
              "    </tr>\n",
              "    <tr>\n",
              "      <th>mean</th>\n",
              "      <td>650.528800</td>\n",
              "      <td>38.921800</td>\n",
              "      <td>5.012800</td>\n",
              "      <td>76485.889288</td>\n",
              "      <td>1.530200</td>\n",
              "      <td>0.70550</td>\n",
              "      <td>0.515100</td>\n",
              "      <td>100090.239881</td>\n",
              "      <td>0.203700</td>\n",
              "    </tr>\n",
              "    <tr>\n",
              "      <th>std</th>\n",
              "      <td>96.653299</td>\n",
              "      <td>10.487806</td>\n",
              "      <td>2.892174</td>\n",
              "      <td>62397.405202</td>\n",
              "      <td>0.581654</td>\n",
              "      <td>0.45584</td>\n",
              "      <td>0.499797</td>\n",
              "      <td>57510.492818</td>\n",
              "      <td>0.402769</td>\n",
              "    </tr>\n",
              "    <tr>\n",
              "      <th>min</th>\n",
              "      <td>350.000000</td>\n",
              "      <td>18.000000</td>\n",
              "      <td>0.000000</td>\n",
              "      <td>0.000000</td>\n",
              "      <td>1.000000</td>\n",
              "      <td>0.00000</td>\n",
              "      <td>0.000000</td>\n",
              "      <td>11.580000</td>\n",
              "      <td>0.000000</td>\n",
              "    </tr>\n",
              "    <tr>\n",
              "      <th>25%</th>\n",
              "      <td>584.000000</td>\n",
              "      <td>32.000000</td>\n",
              "      <td>3.000000</td>\n",
              "      <td>0.000000</td>\n",
              "      <td>1.000000</td>\n",
              "      <td>0.00000</td>\n",
              "      <td>0.000000</td>\n",
              "      <td>51002.110000</td>\n",
              "      <td>0.000000</td>\n",
              "    </tr>\n",
              "    <tr>\n",
              "      <th>50%</th>\n",
              "      <td>652.000000</td>\n",
              "      <td>37.000000</td>\n",
              "      <td>5.000000</td>\n",
              "      <td>97198.540000</td>\n",
              "      <td>1.000000</td>\n",
              "      <td>1.00000</td>\n",
              "      <td>1.000000</td>\n",
              "      <td>100193.915000</td>\n",
              "      <td>0.000000</td>\n",
              "    </tr>\n",
              "    <tr>\n",
              "      <th>75%</th>\n",
              "      <td>718.000000</td>\n",
              "      <td>44.000000</td>\n",
              "      <td>7.000000</td>\n",
              "      <td>127644.240000</td>\n",
              "      <td>2.000000</td>\n",
              "      <td>1.00000</td>\n",
              "      <td>1.000000</td>\n",
              "      <td>149388.247500</td>\n",
              "      <td>0.000000</td>\n",
              "    </tr>\n",
              "    <tr>\n",
              "      <th>max</th>\n",
              "      <td>850.000000</td>\n",
              "      <td>92.000000</td>\n",
              "      <td>10.000000</td>\n",
              "      <td>250898.090000</td>\n",
              "      <td>4.000000</td>\n",
              "      <td>1.00000</td>\n",
              "      <td>1.000000</td>\n",
              "      <td>199992.480000</td>\n",
              "      <td>1.000000</td>\n",
              "    </tr>\n",
              "  </tbody>\n",
              "</table>\n",
              "</div>"
            ],
            "text/plain": [
              "        CreditScore           Age        Tenure        Balance  NumOfProducts  \\\n",
              "count  10000.000000  10000.000000  10000.000000   10000.000000   10000.000000   \n",
              "mean     650.528800     38.921800      5.012800   76485.889288       1.530200   \n",
              "std       96.653299     10.487806      2.892174   62397.405202       0.581654   \n",
              "min      350.000000     18.000000      0.000000       0.000000       1.000000   \n",
              "25%      584.000000     32.000000      3.000000       0.000000       1.000000   \n",
              "50%      652.000000     37.000000      5.000000   97198.540000       1.000000   \n",
              "75%      718.000000     44.000000      7.000000  127644.240000       2.000000   \n",
              "max      850.000000     92.000000     10.000000  250898.090000       4.000000   \n",
              "\n",
              "         HasCrCard  IsActiveMember  EstimatedSalary        Exited  \n",
              "count  10000.00000    10000.000000     10000.000000  10000.000000  \n",
              "mean       0.70550        0.515100    100090.239881      0.203700  \n",
              "std        0.45584        0.499797     57510.492818      0.402769  \n",
              "min        0.00000        0.000000        11.580000      0.000000  \n",
              "25%        0.00000        0.000000     51002.110000      0.000000  \n",
              "50%        1.00000        1.000000    100193.915000      0.000000  \n",
              "75%        1.00000        1.000000    149388.247500      0.000000  \n",
              "max        1.00000        1.000000    199992.480000      1.000000  "
            ]
          },
          "metadata": {
            "tags": []
          },
          "execution_count": 15
        }
      ]
    },
    {
      "cell_type": "code",
      "metadata": {
        "id": "ElF8M1LhKDlI",
        "colab_type": "code",
        "outputId": "aaed8e63-43a0-4b42-fbed-106343d1f446",
        "colab": {
          "base_uri": "https://localhost:8080/",
          "height": 187
        }
      },
      "source": [
        "exitcor = df.corr()\n",
        "exitcor[\"Exited\"].sort_values(ascending=False)"
      ],
      "execution_count": 16,
      "outputs": [
        {
          "output_type": "execute_result",
          "data": {
            "text/plain": [
              "Exited             1.000000\n",
              "Age                0.285323\n",
              "Balance            0.118533\n",
              "EstimatedSalary    0.012097\n",
              "HasCrCard         -0.007138\n",
              "Tenure            -0.014001\n",
              "CreditScore       -0.027094\n",
              "NumOfProducts     -0.047820\n",
              "IsActiveMember    -0.156128\n",
              "Name: Exited, dtype: float64"
            ]
          },
          "metadata": {
            "tags": []
          },
          "execution_count": 16
        }
      ]
    },
    {
      "cell_type": "code",
      "metadata": {
        "id": "fkusOy7NPgAq",
        "colab_type": "code",
        "outputId": "12fcc352-83ac-4327-b7c9-ec1cd8c910ad",
        "colab": {
          "base_uri": "https://localhost:8080/",
          "height": 763
        }
      },
      "source": [
        "#correlation heatmap of dataset\n",
        "def correlation_heatmap(df):\n",
        "    _ , ax = plt.subplots(figsize =(14, 12))\n",
        "    colormap = sns.diverging_palette(220, 10, as_cmap = True)\n",
        "    \n",
        "    _ = sns.heatmap(\n",
        "        df.corr(), \n",
        "        cmap = colormap,\n",
        "        square=True, \n",
        "        cbar_kws={'shrink':.9 }, \n",
        "        ax=ax,\n",
        "        annot=True, \n",
        "        linewidths=0.1,vmax=1.0, linecolor='white',\n",
        "        annot_kws={'fontsize':12 }\n",
        "    )\n",
        "    \n",
        "    plt.title('Pearson Correlation of Features', y=1.05, size=15)\n",
        "\n",
        "correlation_heatmap(df)"
      ],
      "execution_count": 17,
      "outputs": [
        {
          "output_type": "display_data",
          "data": {
            "image/png": "[encoded data removed]",
            "text/plain": [
              "<Figure size 1008x864 with 2 Axes>"
            ]
          },
          "metadata": {
            "tags": []
          }
        }
      ]
    },
    {
      "cell_type": "markdown",
      "metadata": {
        "id": "Wgb8joYwew_q",
        "colab_type": "text"
      },
      "source": [
        "Using dummies for Making Gender, Geography columns binary."
      ]
    },
    {
      "cell_type": "code",
      "metadata": {
        "id": "va6HKezAS3CH",
        "colab_type": "code",
        "colab": {}
      },
      "source": [
        "dfc =pd.concat([pd.get_dummies(df['Gender'], drop_first =True, prefix='Gender'),\n",
        "              pd.get_dummies(df['Geography'], drop_first=True, prefix ='Geography'),\n",
        "              df.drop(['Gender', 'Geography'], axis =1)], axis =1)"
      ],
      "execution_count": 0,
      "outputs": []
    },
    {
      "cell_type": "code",
      "metadata": {
        "id": "z5nz3cAQ9GcI",
        "colab_type": "code",
        "colab": {
          "base_uri": "https://localhost:8080/",
          "height": 204
        },
        "outputId": "2dfa46f6-1a1e-4075-d6a9-b77bace6b101"
      },
      "source": [
        "dfc.head()"
      ],
      "execution_count": 19,
      "outputs": [
        {
          "output_type": "execute_result",
          "data": {
            "text/html": [
              "<div>\n",
              "<style scoped>\n",
              "    .dataframe tbody tr th:only-of-type {\n",
              "        vertical-align: middle;\n",
              "    }\n",
              "\n",
              "    .dataframe tbody tr th {\n",
              "        vertical-align: top;\n",
              "    }\n",
              "\n",
              "    .dataframe thead th {\n",
              "        text-align: right;\n",
              "    }\n",
              "</style>\n",
              "<table border=\"1\" class=\"dataframe\">\n",
              "  <thead>\n",
              "    <tr style=\"text-align: right;\">\n",
              "      <th></th>\n",
              "      <th>Gender_Male</th>\n",
              "      <th>Geography_Germany</th>\n",
              "      <th>Geography_Spain</th>\n",
              "      <th>CreditScore</th>\n",
              "      <th>Age</th>\n",
              "      <th>Tenure</th>\n",
              "      <th>Balance</th>\n",
              "      <th>NumOfProducts</th>\n",
              "      <th>HasCrCard</th>\n",
              "      <th>IsActiveMember</th>\n",
              "      <th>EstimatedSalary</th>\n",
              "      <th>Exited</th>\n",
              "    </tr>\n",
              "  </thead>\n",
              "  <tbody>\n",
              "    <tr>\n",
              "      <th>0</th>\n",
              "      <td>0</td>\n",
              "      <td>0</td>\n",
              "      <td>0</td>\n",
              "      <td>619</td>\n",
              "      <td>42</td>\n",
              "      <td>2</td>\n",
              "      <td>0.00</td>\n",
              "      <td>1</td>\n",
              "      <td>1</td>\n",
              "      <td>1</td>\n",
              "      <td>101348.88</td>\n",
              "      <td>1</td>\n",
              "    </tr>\n",
              "    <tr>\n",
              "      <th>1</th>\n",
              "      <td>0</td>\n",
              "      <td>0</td>\n",
              "      <td>1</td>\n",
              "      <td>608</td>\n",
              "      <td>41</td>\n",
              "      <td>1</td>\n",
              "      <td>83807.86</td>\n",
              "      <td>1</td>\n",
              "      <td>0</td>\n",
              "      <td>1</td>\n",
              "      <td>112542.58</td>\n",
              "      <td>0</td>\n",
              "    </tr>\n",
              "    <tr>\n",
              "      <th>2</th>\n",
              "      <td>0</td>\n",
              "      <td>0</td>\n",
              "      <td>0</td>\n",
              "      <td>502</td>\n",
              "      <td>42</td>\n",
              "      <td>8</td>\n",
              "      <td>159660.80</td>\n",
              "      <td>3</td>\n",
              "      <td>1</td>\n",
              "      <td>0</td>\n",
              "      <td>113931.57</td>\n",
              "      <td>1</td>\n",
              "    </tr>\n",
              "    <tr>\n",
              "      <th>3</th>\n",
              "      <td>0</td>\n",
              "      <td>0</td>\n",
              "      <td>0</td>\n",
              "      <td>699</td>\n",
              "      <td>39</td>\n",
              "      <td>1</td>\n",
              "      <td>0.00</td>\n",
              "      <td>2</td>\n",
              "      <td>0</td>\n",
              "      <td>0</td>\n",
              "      <td>93826.63</td>\n",
              "      <td>0</td>\n",
              "    </tr>\n",
              "    <tr>\n",
              "      <th>4</th>\n",
              "      <td>0</td>\n",
              "      <td>0</td>\n",
              "      <td>1</td>\n",
              "      <td>850</td>\n",
              "      <td>43</td>\n",
              "      <td>2</td>\n",
              "      <td>125510.82</td>\n",
              "      <td>1</td>\n",
              "      <td>1</td>\n",
              "      <td>1</td>\n",
              "      <td>79084.10</td>\n",
              "      <td>0</td>\n",
              "    </tr>\n",
              "  </tbody>\n",
              "</table>\n",
              "</div>"
            ],
            "text/plain": [
              "   Gender_Male  Geography_Germany  Geography_Spain  CreditScore  Age  Tenure  \\\n",
              "0            0                  0                0          619   42       2   \n",
              "1            0                  0                1          608   41       1   \n",
              "2            0                  0                0          502   42       8   \n",
              "3            0                  0                0          699   39       1   \n",
              "4            0                  0                1          850   43       2   \n",
              "\n",
              "     Balance  NumOfProducts  HasCrCard  IsActiveMember  EstimatedSalary  \\\n",
              "0       0.00              1          1               1        101348.88   \n",
              "1   83807.86              1          0               1        112542.58   \n",
              "2  159660.80              3          1               0        113931.57   \n",
              "3       0.00              2          0               0         93826.63   \n",
              "4  125510.82              1          1               1         79084.10   \n",
              "\n",
              "   Exited  \n",
              "0       1  \n",
              "1       0  \n",
              "2       1  \n",
              "3       0  \n",
              "4       0  "
            ]
          },
          "metadata": {
            "tags": []
          },
          "execution_count": 19
        }
      ]
    },
    {
      "cell_type": "markdown",
      "metadata": {
        "id": "PzzgXBJH9-ZY",
        "colab_type": "text"
      },
      "source": [
        "Splitting the data to rain and test sets and also dropping our target variable Exited."
      ]
    },
    {
      "cell_type": "markdown",
      "metadata": {
        "id": "vU2csHOF9z96",
        "colab_type": "text"
      },
      "source": [
        "Scaling the data using Standard Scaler"
      ]
    },
    {
      "cell_type": "code",
      "metadata": {
        "id": "sCvj9xzt9Kw1",
        "colab_type": "code",
        "colab": {}
      },
      "source": [
        "#Scaling\n",
        "from sklearn.preprocessing import StandardScaler\n",
        "sc_X = StandardScaler()\n",
        "X_train = sc_X.fit_transform(X_train)\n",
        "X_test = sc_X.transform(X_test)"
      ],
      "execution_count": 0,
      "outputs": []
    },
    {
      "cell_type": "markdown",
      "metadata": {
        "id": "1APuVbRV_RWc",
        "colab_type": "text"
      },
      "source": [
        "### **Machine Learning Modeling and Evaluating**\n",
        "\n"
      ]
    },
    {
      "cell_type": "markdown",
      "metadata": {
        "id": "S8xubql3_dXD",
        "colab_type": "text"
      },
      "source": [
        "### XGBOOST"
      ]
    },
    {
      "cell_type": "code",
      "metadata": {
        "id": "TCh0GG6K92yg",
        "colab_type": "code",
        "colab": {
          "base_uri": "https://localhost:8080/",
          "height": 51
        },
        "outputId": "aab8652e-43f7-4e2b-b51f-d9c88422cd02"
      },
      "source": [
        "from sklearn.metrics import roc_auc_score\n",
        "\n",
        "import xgboost as xgb\n",
        "xgb_model = xgb.XGBClassifier()\n",
        "xgb_model.fit(X_train, y_train)\n",
        "y_pred = xgb_model.predict_proba(X_train)\n",
        "print(roc_auc_score(y_train, y_pred[:,1]))\n",
        "\n",
        "y_pred = xgb_model.predict_proba(X_test)\n",
        "print(roc_auc_score(y_test, y_pred[:,1]))"
      ],
      "execution_count": 21,
      "outputs": [
        {
          "output_type": "stream",
          "text": [
            "0.8842414527447285\n",
            "0.8735167769650528\n"
          ],
          "name": "stdout"
        }
      ]
    },
    {
      "cell_type": "markdown",
      "metadata": {
        "id": "Bf4z2ElsIaDl",
        "colab_type": "text"
      },
      "source": [
        "### AdaBoost"
      ]
    },
    {
      "cell_type": "code",
      "metadata": {
        "id": "Uzm7xACR_bUe",
        "colab_type": "code",
        "colab": {
          "base_uri": "https://localhost:8080/",
          "height": 51
        },
        "outputId": "3854792f-5b4f-4596-e1c5-4d7409e9a238"
      },
      "source": [
        "from sklearn.ensemble import AdaBoostClassifier\n",
        "ada = AdaBoostClassifier()\n",
        "ada.fit(X_train, y_train)\n",
        "y_pred =ada.predict_proba(X_train)\n",
        "print(roc_auc_score(y_train, y_pred[:,1]))\n",
        "\n",
        "y_pred = ada.predict_proba(X_test)\n",
        "print(roc_auc_score(y_test, y_pred[:,1]))"
      ],
      "execution_count": 22,
      "outputs": [
        {
          "output_type": "stream",
          "text": [
            "0.8586955726857326\n",
            "0.8568512713340299\n"
          ],
          "name": "stdout"
        }
      ]
    },
    {
      "cell_type": "markdown",
      "metadata": {
        "id": "pyd-X5n7IkqH",
        "colab_type": "text"
      },
      "source": [
        "### Gradient Boosting"
      ]
    },
    {
      "cell_type": "code",
      "metadata": {
        "id": "Pn80yfDXIe8A",
        "colab_type": "code",
        "colab": {
          "base_uri": "https://localhost:8080/",
          "height": 51
        },
        "outputId": "791f6bb5-3c94-441e-8d49-62013eb9b93e"
      },
      "source": [
        "from sklearn.ensemble import GradientBoostingClassifier\n",
        "GBC =GradientBoostingClassifier()\n",
        "\n",
        "GBC.fit(X_train, y_train)\n",
        "y_pred =GBC.predict_proba(X_train)\n",
        "print(roc_auc_score(y_train, y_pred[:,1]))\n",
        "\n",
        "y_pred = GBC.predict_proba(X_test)\n",
        "print(roc_auc_score(y_test, y_pred[:,1]))"
      ],
      "execution_count": 23,
      "outputs": [
        {
          "output_type": "stream",
          "text": [
            "0.8866875738989063\n",
            "0.874686326870235\n"
          ],
          "name": "stdout"
        }
      ]
    },
    {
      "cell_type": "markdown",
      "metadata": {
        "id": "SVdxIQ8M1_th",
        "colab_type": "text"
      },
      "source": [
        "### KNN K Neirest Neighbours"
      ]
    },
    {
      "cell_type": "code",
      "metadata": {
        "id": "u3XcSHWT2Ezp",
        "colab_type": "code",
        "colab": {
          "base_uri": "https://localhost:8080/",
          "height": 34
        },
        "outputId": "c95d75e4-ea9a-4b69-bbfb-e3b70bf25734"
      },
      "source": [
        "from sklearn.neighbors import KNeighborsClassifier\n",
        "\n",
        "knn = KNeighborsClassifier(n_neighbors=15)\n",
        "knn.fit(X_train,y_train)\n",
        "accuracy_score(knn.predict(X_test), y_test)"
      ],
      "execution_count": 24,
      "outputs": [
        {
          "output_type": "execute_result",
          "data": {
            "text/plain": [
              "0.8445"
            ]
          },
          "metadata": {
            "tags": []
          },
          "execution_count": 24
        }
      ]
    },
    {
      "cell_type": "code",
      "metadata": {
        "id": "eSGXbPqu2gLh",
        "colab_type": "code",
        "colab": {
          "base_uri": "https://localhost:8080/",
          "height": 102
        },
        "outputId": "694259d3-4748-485c-b3e1-090991208776"
      },
      "source": [
        "knn = KNeighborsClassifier()\n",
        "k_grid={'n_neighbors':np.arange(1,20)}\n",
        "knn_cv=GridSearchCV(knn, k_grid, cv=10, refit=True, n_jobs=-1)\n",
        "knn_cv.fit(X_train,y_train)\n",
        "\n",
        "print(\"tuned hpyerparameters :(best parameters) \",knn_cv.best_params_)\n",
        "print(\"accuracy :\",knn_cv.best_score_)\n",
        "print(knn_cv.best_estimator_)"
      ],
      "execution_count": 25,
      "outputs": [
        {
          "output_type": "stream",
          "text": [
            "tuned hpyerparameters :(best parameters)  {'n_neighbors': 19}\n",
            "accuracy : 0.831625\n",
            "KNeighborsClassifier(algorithm='auto', leaf_size=30, metric='minkowski',\n",
            "                     metric_params=None, n_jobs=None, n_neighbors=19, p=2,\n",
            "                     weights='uniform')\n"
          ],
          "name": "stdout"
        }
      ]
    },
    {
      "cell_type": "markdown",
      "metadata": {
        "id": "8JkfoyaT2znS",
        "colab_type": "text"
      },
      "source": [
        "### SVM with \"rbf\" Kernel"
      ]
    },
    {
      "cell_type": "code",
      "metadata": {
        "id": "5f3KSrWI22CR",
        "colab_type": "code",
        "colab": {
          "base_uri": "https://localhost:8080/",
          "height": 173
        },
        "outputId": "8b330e90-ac79-4455-c4f4-73b5c2e77866"
      },
      "source": [
        "from sklearn.svm import SVC\n",
        "\n",
        "Cs = [0.1, 1, 10, 100]\n",
        "gammas = [0.001, .01, 0.1, 1, 10]\n",
        "param_grid = {'C': Cs, 'gamma': gammas,'kernel': ['rbf'], 'probability':[True]}\n",
        "\n",
        "SVM_rbf_cv = GridSearchCV(SVC(), param_grid, cv=3, refit=True, n_jobs=-1)\n",
        "SVM_rbf_cv.fit(X_train,y_train)\n",
        "\n",
        "print(\"tuned hpyerparameters :(best parameters) \",SVM_rbf_cv.best_params_)\n",
        "print(\"accuracy :\",SVM_rbf_cv.best_score_)\n",
        "print(SVM_rbf_cv.best_estimator_)"
      ],
      "execution_count": 26,
      "outputs": [
        {
          "output_type": "stream",
          "text": [
            "/usr/local/lib/python3.6/dist-packages/joblib/externals/loky/process_executor.py:706: UserWarning: A worker stopped while some jobs were given to the executor. This can be caused by a too short worker timeout or by a memory leak.\n",
            "  \"timeout or by a memory leak.\", UserWarning\n"
          ],
          "name": "stderr"
        },
        {
          "output_type": "stream",
          "text": [
            "tuned hpyerparameters :(best parameters)  {'C': 1, 'gamma': 0.1, 'kernel': 'rbf', 'probability': True}\n",
            "accuracy : 0.853875\n",
            "SVC(C=1, cache_size=200, class_weight=None, coef0=0.0,\n",
            "    decision_function_shape='ovr', degree=3, gamma=0.1, kernel='rbf',\n",
            "    max_iter=-1, probability=True, random_state=None, shrinking=True, tol=0.001,\n",
            "    verbose=False)\n"
          ],
          "name": "stdout"
        }
      ]
    },
    {
      "cell_type": "code",
      "metadata": {
        "id": "ePlIeVS92-mE",
        "colab_type": "code",
        "colab": {
          "base_uri": "https://localhost:8080/",
          "height": 51
        },
        "outputId": "6a1b2d5f-34da-4088-b9c0-514ffd22a253"
      },
      "source": [
        "Cs = [1]\n",
        "gammas = [0.1]\n",
        "param_grid = {'C': Cs, 'gamma': gammas,'kernel': ['rbf'], 'probability':[True]}\n",
        "SVM_rbf_cv_10 = GridSearchCV(SVC(), param_grid, cv=10, refit=True, n_jobs=-1)\n",
        "SVM_rbf_cv_10.fit(X_train,y_train)\n",
        "\n",
        "print(\"tuned hpyerparameters :(best parameters) \",SVM_rbf_cv_10.best_params_)\n",
        "print(\"accuracy :\",SVM_rbf_cv_10.best_score_)"
      ],
      "execution_count": 27,
      "outputs": [
        {
          "output_type": "stream",
          "text": [
            "tuned hpyerparameters :(best parameters)  {'C': 1, 'gamma': 0.1, 'kernel': 'rbf', 'probability': True}\n",
            "accuracy : 0.853125\n"
          ],
          "name": "stdout"
        }
      ]
    },
    {
      "cell_type": "markdown",
      "metadata": {
        "id": "U_KU4FWb3OUA",
        "colab_type": "text"
      },
      "source": [
        "SVM with \"poly\" Kernel"
      ]
    },
    {
      "cell_type": "code",
      "metadata": {
        "id": "5rZ57RnI3Nh5",
        "colab_type": "code",
        "colab": {
          "base_uri": "https://localhost:8080/",
          "height": 119
        },
        "outputId": "a11cfeef-1def-4708-a50c-a3961da84c9f"
      },
      "source": [
        "from sklearn.model_selection import RandomizedSearchCV\n",
        "\n",
        "Cs = [0.1, 1, 10, 100]\n",
        "gammas = [0.001, .01, 0.1, 0.5]\n",
        "\n",
        "param_grid = {'C': Cs, 'gamma': gammas,'probability':[True],'kernel': ['poly'],'degree':[2,3] }\n",
        "SVM_poly_cv = RandomizedSearchCV(estimator = SVC(), param_distributions = param_grid, n_iter = 10, cv = 3, random_state=51, n_jobs = -1, refit=True)\n",
        "SVM_poly_cv.fit(X_train,y_train)\n",
        "\n",
        "print(\"tuned hpyerparameters :(best parameters) \",SVM_poly_cv.best_params_)\n",
        "print(\"accuracy :\",SVM_poly_cv.best_score_)\n",
        "print(SVM_poly_cv.best_estimator_)"
      ],
      "execution_count": 28,
      "outputs": [
        {
          "output_type": "stream",
          "text": [
            "tuned hpyerparameters :(best parameters)  {'probability': True, 'kernel': 'poly', 'gamma': 0.5, 'degree': 3, 'C': 1}\n",
            "accuracy : 0.860125\n",
            "SVC(C=1, cache_size=200, class_weight=None, coef0=0.0,\n",
            "    decision_function_shape='ovr', degree=3, gamma=0.5, kernel='poly',\n",
            "    max_iter=-1, probability=True, random_state=None, shrinking=True, tol=0.001,\n",
            "    verbose=False)\n"
          ],
          "name": "stdout"
        }
      ]
    },
    {
      "cell_type": "markdown",
      "metadata": {
        "id": "ebRy1tke3vnW",
        "colab_type": "text"
      },
      "source": [
        "### Gaussian Naive Bayes"
      ]
    },
    {
      "cell_type": "code",
      "metadata": {
        "id": "ZQue76TX3yBR",
        "colab_type": "code",
        "colab": {
          "base_uri": "https://localhost:8080/",
          "height": 34
        },
        "outputId": "42bdb65c-94b3-4955-c716-88d1d4300dd1"
      },
      "source": [
        "from sklearn.naive_bayes import GaussianNB\n",
        "\n",
        "nb_m = GaussianNB()\n",
        "nb_m.fit(X_train,y_train)\n",
        "y_pred = nb_m.predict(X_test)\n",
        "accuracy_score(y_pred, y_test)"
      ],
      "execution_count": 29,
      "outputs": [
        {
          "output_type": "execute_result",
          "data": {
            "text/plain": [
              "0.8295"
            ]
          },
          "metadata": {
            "tags": []
          },
          "execution_count": 29
        }
      ]
    },
    {
      "cell_type": "markdown",
      "metadata": {
        "id": "lBThn7V93_gT",
        "colab_type": "text"
      },
      "source": [
        "### Extreme Gradient boosting"
      ]
    },
    {
      "cell_type": "code",
      "metadata": {
        "id": "wB5iQrLQ3_Tq",
        "colab_type": "code",
        "colab": {
          "base_uri": "https://localhost:8080/",
          "height": 170
        },
        "outputId": "f66a36c7-1e3f-46ce-8ee5-63ec7ccedb40"
      },
      "source": [
        "from xgboost import XGBClassifier\n",
        "\n",
        "m_dep = [5,6,7,8]\n",
        "gammas = [0.01,0.001,0.001]\n",
        "min_c_wt = [1,5,10]\n",
        "l_rate = [0.05,0.1, 0.2, 0.3]\n",
        "n_est = [5,10,20,100]\n",
        "\n",
        "param_grid = {'n_estimators': n_est, 'gamma': gammas, 'max_depth': m_dep,\n",
        "              'min_child_weight': min_c_wt, 'learning_rate': l_rate}\n",
        "\n",
        "xgb_cv = RandomizedSearchCV(estimator = XGBClassifier(), n_iter=100, param_distributions =  param_grid, random_state=51, cv=3, n_jobs=-1, refit=True)\n",
        "xgb_cv.fit(X_train,y_train)\n",
        "\n",
        "print(\"tuned hpyerparameters :(best parameters) \",xgb_cv.best_params_)\n",
        "print(\"accuracy :\",xgb_cv.best_score_)\n",
        "print(xgb_cv.best_estimator_)"
      ],
      "execution_count": 30,
      "outputs": [
        {
          "output_type": "stream",
          "text": [
            "tuned hpyerparameters :(best parameters)  {'n_estimators': 100, 'min_child_weight': 1, 'max_depth': 5, 'learning_rate': 0.1, 'gamma': 0.01}\n",
            "accuracy : 0.864875\n",
            "XGBClassifier(base_score=0.5, booster='gbtree', colsample_bylevel=1,\n",
            "              colsample_bynode=1, colsample_bytree=1, gamma=0.01,\n",
            "              learning_rate=0.1, max_delta_step=0, max_depth=5,\n",
            "              min_child_weight=1, missing=None, n_estimators=100, n_jobs=1,\n",
            "              nthread=None, objective='binary:logistic', random_state=0,\n",
            "              reg_alpha=0, reg_lambda=1, scale_pos_weight=1, seed=None,\n",
            "              silent=None, subsample=1, verbosity=1)\n"
          ],
          "name": "stdout"
        }
      ]
    },
    {
      "cell_type": "markdown",
      "metadata": {
        "id": "OF7qoUn_Iqn6",
        "colab_type": "text"
      },
      "source": [
        "### Logistic Regression"
      ]
    },
    {
      "cell_type": "code",
      "metadata": {
        "id": "U3MTsWL5InTb",
        "colab_type": "code",
        "colab": {
          "base_uri": "https://localhost:8080/",
          "height": 51
        },
        "outputId": "24b32b5c-b523-4bac-9bce-f091e4939b9b"
      },
      "source": [
        "from sklearn.linear_model import LogisticRegression\n",
        "lr = LogisticRegression(solver = \"liblinear\")\n",
        "y_pred =GBC.predict_proba(X_train)\n",
        "y_pred =GBC.predict_proba(X_train)\n",
        "lr.fit(X_train, y_train)\n",
        "y_pred =GBC.predict_proba(X_train)\n",
        "y_pred = lr.predict_proba(X_train)\n",
        "print(roc_auc_score(y_train, y_pred[:,1]))\n",
        "y_pred = lr.predict_proba(X_test)\n",
        "print(roc_auc_score(y_test, y_pred[:,1]))"
      ],
      "execution_count": 31,
      "outputs": [
        {
          "output_type": "stream",
          "text": [
            "0.7662121499039314\n",
            "0.7721630094043888\n"
          ],
          "name": "stdout"
        }
      ]
    },
    {
      "cell_type": "code",
      "metadata": {
        "id": "ISLSsUVO4ORB",
        "colab_type": "code",
        "colab": {
          "base_uri": "https://localhost:8080/",
          "height": 530
        },
        "outputId": "87e86583-e699-4f67-bc2c-3c17d091b602"
      },
      "source": [
        "algos = [lr, knn_cv, SVM_rbf_cv, SVM_poly_cv, nb_m, xgb_cv]\n",
        "labels = ['Logistic Regression', 'knn', 'SVM rbf', 'SVM poly', 'Random Forest','Naive Bayes', 'XGB']\n",
        "from sklearn.metrics import roc_curve\n",
        "plt.figure(figsize = (12,8))\n",
        "plt.plot([0,1], [0,1], 'k--')\n",
        "\n",
        "for i in range(len(algos)):\n",
        "    y_pred_prob = algos[i].predict_proba(X_test)[:,1]\n",
        "    fpr, tpr, thresholds = roc_curve(y_test, y_pred_prob)\n",
        "    plt.plot(fpr, tpr, label=labels[i])\n",
        "\n",
        "plt.xlabel('False positive rate')\n",
        "plt.ylabel('True positive rate')\n",
        "plt.title('ROC Curve')\n",
        "plt.legend(loc='best')"
      ],
      "execution_count": 32,
      "outputs": [
        {
          "output_type": "execute_result",
          "data": {
            "text/plain": [
              "<matplotlib.legend.Legend at 0x7f83de0f1470>"
            ]
          },
          "metadata": {
            "tags": []
          },
          "execution_count": 32
        },
        {
          "output_type": "display_data",
          "data": {
            "image/png": "[encoded data removed]",
            "text/plain": [
              "<Figure size 864x576 with 1 Axes>"
            ]
          },
          "metadata": {
            "tags": []
          }
        }
      ]
    },
    {
      "cell_type": "markdown",
      "metadata": {
        "id": "nxFw-wnm1ZuJ",
        "colab_type": "text"
      },
      "source": [
        "### **Neural Networks Artificial Intelligence Modeling and Evaluating**"
      ]
    },
    {
      "cell_type": "markdown",
      "metadata": {
        "id": "tfLkyBpgM8He",
        "colab_type": "text"
      },
      "source": [
        "### ANN"
      ]
    },
    {
      "cell_type": "code",
      "metadata": {
        "id": "WVFwsrg7Itbd",
        "colab_type": "code",
        "colab": {
          "base_uri": "https://localhost:8080/",
          "height": 185
        },
        "outputId": "01c9a7c8-4a04-4556-9473-34c005076ca4"
      },
      "source": [
        "import keras\n",
        "from keras.models import Sequential\n",
        "from keras.layers import Dense\n",
        "import tensorflow.compat.v1 as tf\n",
        "tf.disable_v2_behavior()\n",
        "classifier = Sequential()"
      ],
      "execution_count": 33,
      "outputs": [
        {
          "output_type": "stream",
          "text": [
            "Using TensorFlow backend.\n"
          ],
          "name": "stderr"
        },
        {
          "output_type": "display_data",
          "data": {
            "text/html": [
              "<p style=\"color: red;\">\n",
              "The default version of TensorFlow in Colab will soon switch to TensorFlow 2.x.<br>\n",
              "We recommend you <a href=\"https://www.tensorflow.org/guide/migrate\" target=\"_blank\">upgrade</a> now \n",
              "or ensure your notebook will continue to use TensorFlow 1.x via the <code>%tensorflow_version 1.x</code> magic:\n",
              "<a href=\"https://colab.research.google.com/notebooks/tensorflow_version.ipynb\" target=\"_blank\">more info</a>.</p>\n"
            ],
            "text/plain": [
              "<IPython.core.display.HTML object>"
            ]
          },
          "metadata": {
            "tags": []
          }
        },
        {
          "output_type": "stream",
          "text": [
            "WARNING:tensorflow:From /usr/local/lib/python3.6/dist-packages/tensorflow_core/python/compat/v2_compat.py:68: disable_resource_variables (from tensorflow.python.ops.variable_scope) is deprecated and will be removed in a future version.\n",
            "Instructions for updating:\n",
            "non-resource variables are not supported in the long term\n",
            "WARNING:tensorflow:From /usr/local/lib/python3.6/dist-packages/keras/backend/tensorflow_backend.py:66: The name tf.get_default_graph is deprecated. Please use tf.compat.v1.get_default_graph instead.\n",
            "\n"
          ],
          "name": "stdout"
        }
      ]
    },
    {
      "cell_type": "code",
      "metadata": {
        "id": "be6Yi7F_M-JU",
        "colab_type": "code",
        "colab": {
          "base_uri": "https://localhost:8080/",
          "height": 207
        },
        "outputId": "6a149ff4-a7b0-4c19-d6f1-c085a59a34ef"
      },
      "source": [
        "#Add Sequential Layers\n",
        "\n",
        "classifier.add(Dense(output_dim = 6, init='uniform' , activation = 'relu', input_dim = 11 ))\n",
        "classifier.add(Dense(output_dim = 6, init='uniform' , activation = 'relu' ))\n",
        "classifier.add(Dense(output_dim = 1, init='uniform' , activation = 'sigmoid'))"
      ],
      "execution_count": 34,
      "outputs": [
        {
          "output_type": "stream",
          "text": [
            "WARNING:tensorflow:From /usr/local/lib/python3.6/dist-packages/keras/backend/tensorflow_backend.py:541: The name tf.placeholder is deprecated. Please use tf.compat.v1.placeholder instead.\n",
            "\n",
            "WARNING:tensorflow:From /usr/local/lib/python3.6/dist-packages/keras/backend/tensorflow_backend.py:4432: The name tf.random_uniform is deprecated. Please use tf.random.uniform instead.\n",
            "\n"
          ],
          "name": "stdout"
        },
        {
          "output_type": "stream",
          "text": [
            "/usr/local/lib/python3.6/dist-packages/ipykernel_launcher.py:2: UserWarning: Update your `Dense` call to the Keras 2 API: `Dense(activation=\"relu\", input_dim=11, units=6, kernel_initializer=\"uniform\")`\n",
            "  \n",
            "/usr/local/lib/python3.6/dist-packages/ipykernel_launcher.py:3: UserWarning: Update your `Dense` call to the Keras 2 API: `Dense(activation=\"relu\", units=6, kernel_initializer=\"uniform\")`\n",
            "  This is separate from the ipykernel package so we can avoid doing imports until\n",
            "/usr/local/lib/python3.6/dist-packages/ipykernel_launcher.py:4: UserWarning: Update your `Dense` call to the Keras 2 API: `Dense(activation=\"sigmoid\", units=1, kernel_initializer=\"uniform\")`\n",
            "  after removing the cwd from sys.path.\n"
          ],
          "name": "stderr"
        }
      ]
    },
    {
      "cell_type": "code",
      "metadata": {
        "id": "5zK8wAGxNGn6",
        "colab_type": "code",
        "colab": {
          "base_uri": "https://localhost:8080/",
          "height": 1000
        },
        "outputId": "cfdc06c6-1174-482d-ed1e-33e31bc588bc"
      },
      "source": [
        " #Compile the ANN\n",
        "classifier.compile(optimizer = 'adam', loss= 'binary_crossentropy', metrics = ['accuracy'] )\n",
        "\n",
        "#fit \n",
        "classifier.fit(X_train, y_train, batch_size= 10, epochs= 100)\n",
        "\n",
        "#predict\n",
        "y_pred= classifier.predict(X_test)\n",
        "\n",
        "#Confusion Matrix\n",
        "from sklearn.metrics import confusion_matrix\n",
        "cm = confusion_matrix(y_test, y_pred>0.5)"
      ],
      "execution_count": 35,
      "outputs": [
        {
          "output_type": "stream",
          "text": [
            "WARNING:tensorflow:From /usr/local/lib/python3.6/dist-packages/keras/optimizers.py:793: The name tf.train.Optimizer is deprecated. Please use tf.compat.v1.train.Optimizer instead.\n",
            "\n",
            "WARNING:tensorflow:From /usr/local/lib/python3.6/dist-packages/keras/backend/tensorflow_backend.py:3657: The name tf.log is deprecated. Please use tf.math.log instead.\n",
            "\n",
            "WARNING:tensorflow:From /usr/local/lib/python3.6/dist-packages/tensorflow_core/python/ops/nn_impl.py:183: where (from tensorflow.python.ops.array_ops) is deprecated and will be removed in a future version.\n",
            "Instructions for updating:\n",
            "Use tf.where in 2.0, which has the same broadcast rule as np.where\n",
            "WARNING:tensorflow:From /usr/local/lib/python3.6/dist-packages/keras/backend/tensorflow_backend.py:1033: The name tf.assign_add is deprecated. Please use tf.compat.v1.assign_add instead.\n",
            "\n",
            "WARNING:tensorflow:From /usr/local/lib/python3.6/dist-packages/keras/backend/tensorflow_backend.py:1020: The name tf.assign is deprecated. Please use tf.compat.v1.assign instead.\n",
            "\n",
            "WARNING:tensorflow:From /usr/local/lib/python3.6/dist-packages/keras/backend/tensorflow_backend.py:3005: The name tf.Session is deprecated. Please use tf.compat.v1.Session instead.\n",
            "\n",
            "Epoch 1/100\n",
            "WARNING:tensorflow:From /usr/local/lib/python3.6/dist-packages/keras/backend/tensorflow_backend.py:190: The name tf.get_default_session is deprecated. Please use tf.compat.v1.get_default_session instead.\n",
            "\n",
            "WARNING:tensorflow:From /usr/local/lib/python3.6/dist-packages/keras/backend/tensorflow_backend.py:197: The name tf.ConfigProto is deprecated. Please use tf.compat.v1.ConfigProto instead.\n",
            "\n",
            "WARNING:tensorflow:From /usr/local/lib/python3.6/dist-packages/keras/backend/tensorflow_backend.py:207: The name tf.global_variables is deprecated. Please use tf.compat.v1.global_variables instead.\n",
            "\n",
            "WARNING:tensorflow:From /usr/local/lib/python3.6/dist-packages/keras/backend/tensorflow_backend.py:216: The name tf.is_variable_initialized is deprecated. Please use tf.compat.v1.is_variable_initialized instead.\n",
            "\n",
            "WARNING:tensorflow:From /usr/local/lib/python3.6/dist-packages/keras/backend/tensorflow_backend.py:223: The name tf.variables_initializer is deprecated. Please use tf.compat.v1.variables_initializer instead.\n",
            "\n",
            "8000/8000 [==============================] - 9s 1ms/step - loss: 0.4873 - acc: 0.7959\n",
            "Epoch 2/100\n",
            "8000/8000 [==============================] - 4s 478us/step - loss: 0.4286 - acc: 0.7960\n",
            "Epoch 3/100\n",
            "8000/8000 [==============================] - 4s 474us/step - loss: 0.4231 - acc: 0.7960\n",
            "Epoch 4/100\n",
            "8000/8000 [==============================] - 4s 462us/step - loss: 0.4188 - acc: 0.8184\n",
            "Epoch 5/100\n",
            "8000/8000 [==============================] - 4s 464us/step - loss: 0.4168 - acc: 0.8274\n",
            "Epoch 6/100\n",
            "8000/8000 [==============================] - 4s 444us/step - loss: 0.4145 - acc: 0.8295\n",
            "Epoch 7/100\n",
            "8000/8000 [==============================] - 4s 463us/step - loss: 0.4129 - acc: 0.8312\n",
            "Epoch 8/100\n",
            "8000/8000 [==============================] - 4s 448us/step - loss: 0.4115 - acc: 0.8310\n",
            "Epoch 9/100\n",
            "8000/8000 [==============================] - 3s 433us/step - loss: 0.4107 - acc: 0.8319\n",
            "Epoch 10/100\n",
            "8000/8000 [==============================] - 4s 461us/step - loss: 0.4099 - acc: 0.8340\n",
            "Epoch 11/100\n",
            "8000/8000 [==============================] - 4s 465us/step - loss: 0.4087 - acc: 0.8350\n",
            "Epoch 12/100\n",
            "8000/8000 [==============================] - 4s 469us/step - loss: 0.4080 - acc: 0.8346\n",
            "Epoch 13/100\n",
            "8000/8000 [==============================] - 4s 476us/step - loss: 0.4072 - acc: 0.8347\n",
            "Epoch 14/100\n",
            "8000/8000 [==============================] - 4s 462us/step - loss: 0.4062 - acc: 0.8334\n",
            "Epoch 15/100\n",
            "8000/8000 [==============================] - 3s 423us/step - loss: 0.4065 - acc: 0.8332\n",
            "Epoch 16/100\n",
            "8000/8000 [==============================] - 4s 459us/step - loss: 0.4055 - acc: 0.8347\n",
            "Epoch 17/100\n",
            "8000/8000 [==============================] - 4s 458us/step - loss: 0.4056 - acc: 0.8340\n",
            "Epoch 18/100\n",
            "8000/8000 [==============================] - 4s 456us/step - loss: 0.4049 - acc: 0.8344\n",
            "Epoch 19/100\n",
            "8000/8000 [==============================] - 4s 461us/step - loss: 0.4045 - acc: 0.8345\n",
            "Epoch 20/100\n",
            "8000/8000 [==============================] - 4s 438us/step - loss: 0.4040 - acc: 0.8345\n",
            "Epoch 21/100\n",
            "8000/8000 [==============================] - 4s 448us/step - loss: 0.4035 - acc: 0.8342\n",
            "Epoch 22/100\n",
            "8000/8000 [==============================] - 4s 492us/step - loss: 0.4023 - acc: 0.8332\n",
            "Epoch 23/100\n",
            "8000/8000 [==============================] - 4s 482us/step - loss: 0.4017 - acc: 0.8357\n",
            "Epoch 24/100\n",
            "8000/8000 [==============================] - 4s 458us/step - loss: 0.4010 - acc: 0.8344\n",
            "Epoch 25/100\n",
            "8000/8000 [==============================] - 4s 447us/step - loss: 0.4000 - acc: 0.8340\n",
            "Epoch 26/100\n",
            "8000/8000 [==============================] - 4s 459us/step - loss: 0.3997 - acc: 0.8345\n",
            "Epoch 27/100\n",
            "8000/8000 [==============================] - 4s 452us/step - loss: 0.3989 - acc: 0.8342\n",
            "Epoch 28/100\n",
            "8000/8000 [==============================] - 4s 457us/step - loss: 0.3982 - acc: 0.8357\n",
            "Epoch 29/100\n",
            "8000/8000 [==============================] - 4s 453us/step - loss: 0.3978 - acc: 0.8361\n",
            "Epoch 30/100\n",
            "8000/8000 [==============================] - 4s 450us/step - loss: 0.3974 - acc: 0.8361\n",
            "Epoch 31/100\n",
            "8000/8000 [==============================] - 4s 455us/step - loss: 0.3965 - acc: 0.8370\n",
            "Epoch 32/100\n",
            "8000/8000 [==============================] - 4s 477us/step - loss: 0.3965 - acc: 0.8371\n",
            "Epoch 33/100\n",
            "8000/8000 [==============================] - 4s 493us/step - loss: 0.3965 - acc: 0.8352\n",
            "Epoch 34/100\n",
            "8000/8000 [==============================] - 4s 451us/step - loss: 0.3960 - acc: 0.8376\n",
            "Epoch 35/100\n",
            "8000/8000 [==============================] - 4s 449us/step - loss: 0.3955 - acc: 0.8361\n",
            "Epoch 36/100\n",
            "8000/8000 [==============================] - 4s 453us/step - loss: 0.3953 - acc: 0.8369\n",
            "Epoch 37/100\n",
            "8000/8000 [==============================] - 4s 457us/step - loss: 0.3955 - acc: 0.8365\n",
            "Epoch 38/100\n",
            "8000/8000 [==============================] - 4s 477us/step - loss: 0.3950 - acc: 0.8360\n",
            "Epoch 39/100\n",
            "8000/8000 [==============================] - 4s 460us/step - loss: 0.3949 - acc: 0.8365\n",
            "Epoch 40/100\n",
            "8000/8000 [==============================] - 4s 468us/step - loss: 0.3948 - acc: 0.8365\n",
            "Epoch 41/100\n",
            "8000/8000 [==============================] - 4s 476us/step - loss: 0.3949 - acc: 0.8359\n",
            "Epoch 42/100\n",
            "8000/8000 [==============================] - 3s 436us/step - loss: 0.3945 - acc: 0.8359\n",
            "Epoch 43/100\n",
            "8000/8000 [==============================] - 4s 478us/step - loss: 0.3948 - acc: 0.8394\n",
            "Epoch 44/100\n",
            "8000/8000 [==============================] - 4s 467us/step - loss: 0.3941 - acc: 0.8366\n",
            "Epoch 45/100\n",
            "8000/8000 [==============================] - 4s 440us/step - loss: 0.3942 - acc: 0.8365\n",
            "Epoch 46/100\n",
            "8000/8000 [==============================] - 4s 481us/step - loss: 0.3939 - acc: 0.8382\n",
            "Epoch 47/100\n",
            "8000/8000 [==============================] - 4s 473us/step - loss: 0.3935 - acc: 0.8370\n",
            "Epoch 48/100\n",
            "8000/8000 [==============================] - 4s 488us/step - loss: 0.3944 - acc: 0.8361\n",
            "Epoch 49/100\n",
            "8000/8000 [==============================] - 4s 464us/step - loss: 0.3942 - acc: 0.8380\n",
            "Epoch 50/100\n",
            "8000/8000 [==============================] - 4s 470us/step - loss: 0.3938 - acc: 0.8365\n",
            "Epoch 51/100\n",
            "8000/8000 [==============================] - 4s 476us/step - loss: 0.3938 - acc: 0.8374\n",
            "Epoch 52/100\n",
            "8000/8000 [==============================] - 4s 466us/step - loss: 0.3939 - acc: 0.8370\n",
            "Epoch 53/100\n",
            "8000/8000 [==============================] - 4s 464us/step - loss: 0.3938 - acc: 0.8356\n",
            "Epoch 54/100\n",
            "8000/8000 [==============================] - 4s 517us/step - loss: 0.3940 - acc: 0.8379\n",
            "Epoch 55/100\n",
            "8000/8000 [==============================] - 4s 464us/step - loss: 0.3940 - acc: 0.8375\n",
            "Epoch 56/100\n",
            "8000/8000 [==============================] - 4s 451us/step - loss: 0.3932 - acc: 0.8364\n",
            "Epoch 57/100\n",
            "8000/8000 [==============================] - 4s 492us/step - loss: 0.3935 - acc: 0.8380\n",
            "Epoch 58/100\n",
            "8000/8000 [==============================] - 4s 465us/step - loss: 0.3937 - acc: 0.8370\n",
            "Epoch 59/100\n",
            "8000/8000 [==============================] - 4s 453us/step - loss: 0.3933 - acc: 0.8382\n",
            "Epoch 60/100\n",
            "8000/8000 [==============================] - 4s 463us/step - loss: 0.3936 - acc: 0.8354\n",
            "Epoch 61/100\n",
            "8000/8000 [==============================] - 4s 464us/step - loss: 0.3931 - acc: 0.8366\n",
            "Epoch 62/100\n",
            "8000/8000 [==============================] - 4s 439us/step - loss: 0.3942 - acc: 0.8365\n",
            "Epoch 63/100\n",
            "8000/8000 [==============================] - 4s 441us/step - loss: 0.3929 - acc: 0.8384\n",
            "Epoch 64/100\n",
            "8000/8000 [==============================] - 4s 439us/step - loss: 0.3935 - acc: 0.8374\n",
            "Epoch 65/100\n",
            "8000/8000 [==============================] - 4s 466us/step - loss: 0.3935 - acc: 0.8379\n",
            "Epoch 66/100\n",
            "8000/8000 [==============================] - 4s 451us/step - loss: 0.3937 - acc: 0.8395\n",
            "Epoch 67/100\n",
            "8000/8000 [==============================] - 4s 495us/step - loss: 0.3936 - acc: 0.8390\n",
            "Epoch 68/100\n",
            "8000/8000 [==============================] - 4s 466us/step - loss: 0.3928 - acc: 0.8366\n",
            "Epoch 69/100\n",
            "8000/8000 [==============================] - 4s 448us/step - loss: 0.3930 - acc: 0.8385\n",
            "Epoch 70/100\n",
            "8000/8000 [==============================] - 4s 472us/step - loss: 0.3933 - acc: 0.8371\n",
            "Epoch 71/100\n",
            "8000/8000 [==============================] - 4s 450us/step - loss: 0.3930 - acc: 0.8389\n",
            "Epoch 72/100\n",
            "8000/8000 [==============================] - 4s 450us/step - loss: 0.3927 - acc: 0.8377\n",
            "Epoch 73/100\n",
            "8000/8000 [==============================] - 4s 455us/step - loss: 0.3932 - acc: 0.8386\n",
            "Epoch 74/100\n",
            "8000/8000 [==============================] - 4s 480us/step - loss: 0.3921 - acc: 0.8367\n",
            "Epoch 75/100\n",
            "8000/8000 [==============================] - 4s 445us/step - loss: 0.3921 - acc: 0.8390\n",
            "Epoch 76/100\n",
            "8000/8000 [==============================] - 4s 475us/step - loss: 0.3928 - acc: 0.8367\n",
            "Epoch 77/100\n",
            "8000/8000 [==============================] - 4s 455us/step - loss: 0.3922 - acc: 0.8371\n",
            "Epoch 78/100\n",
            "8000/8000 [==============================] - 4s 478us/step - loss: 0.3921 - acc: 0.8375\n",
            "Epoch 79/100\n",
            "8000/8000 [==============================] - 4s 463us/step - loss: 0.3918 - acc: 0.8381\n",
            "Epoch 80/100\n",
            "8000/8000 [==============================] - 4s 454us/step - loss: 0.3910 - acc: 0.8394\n",
            "Epoch 81/100\n",
            "8000/8000 [==============================] - 4s 467us/step - loss: 0.3906 - acc: 0.8396\n",
            "Epoch 82/100\n",
            "8000/8000 [==============================] - 4s 448us/step - loss: 0.3899 - acc: 0.8379\n",
            "Epoch 83/100\n",
            "8000/8000 [==============================] - 4s 447us/step - loss: 0.3894 - acc: 0.8391\n",
            "Epoch 84/100\n",
            "8000/8000 [==============================] - 4s 453us/step - loss: 0.3889 - acc: 0.8372\n",
            "Epoch 85/100\n",
            "8000/8000 [==============================] - 4s 446us/step - loss: 0.3877 - acc: 0.8377\n",
            "Epoch 86/100\n",
            "8000/8000 [==============================] - 4s 451us/step - loss: 0.3856 - acc: 0.8394\n",
            "Epoch 87/100\n",
            "8000/8000 [==============================] - 4s 458us/step - loss: 0.3829 - acc: 0.8404\n",
            "Epoch 88/100\n",
            "8000/8000 [==============================] - 4s 502us/step - loss: 0.3811 - acc: 0.8391\n",
            "Epoch 89/100\n",
            "8000/8000 [==============================] - 4s 464us/step - loss: 0.3784 - acc: 0.8392\n",
            "Epoch 90/100\n",
            "8000/8000 [==============================] - 3s 435us/step - loss: 0.3760 - acc: 0.8389\n",
            "Epoch 91/100\n",
            "8000/8000 [==============================] - 4s 457us/step - loss: 0.3739 - acc: 0.8380\n",
            "Epoch 92/100\n",
            "8000/8000 [==============================] - 4s 457us/step - loss: 0.3721 - acc: 0.8399\n",
            "Epoch 93/100\n",
            "8000/8000 [==============================] - 4s 477us/step - loss: 0.3703 - acc: 0.8415\n",
            "Epoch 94/100\n",
            "8000/8000 [==============================] - 4s 449us/step - loss: 0.3674 - acc: 0.8441\n",
            "Epoch 95/100\n",
            "8000/8000 [==============================] - 4s 453us/step - loss: 0.3661 - acc: 0.8429\n",
            "Epoch 96/100\n",
            "8000/8000 [==============================] - 4s 472us/step - loss: 0.3646 - acc: 0.8435\n",
            "Epoch 97/100\n",
            "8000/8000 [==============================] - 4s 477us/step - loss: 0.3634 - acc: 0.8470\n",
            "Epoch 98/100\n",
            "8000/8000 [==============================] - 4s 461us/step - loss: 0.3614 - acc: 0.8501\n",
            "Epoch 99/100\n",
            "8000/8000 [==============================] - 4s 453us/step - loss: 0.3608 - acc: 0.8512\n",
            "Epoch 100/100\n",
            "8000/8000 [==============================] - 4s 465us/step - loss: 0.3598 - acc: 0.8491\n"
          ],
          "name": "stdout"
        }
      ]
    },
    {
      "cell_type": "markdown",
      "metadata": {
        "id": "PBRbYoGYhrMk",
        "colab_type": "text"
      },
      "source": [
        "Ok we can predict if a customer is going to churn not not with %86.3 accuracy which is pretty nice."
      ]
    },
    {
      "cell_type": "markdown",
      "metadata": {
        "id": "qV8m6FXFtNgk",
        "colab_type": "text"
      },
      "source": [
        "### We can now conclude our findings\n",
        "The median age of people whom the bank retained is 37 with most values between 30-40. The median age of people who exited the bank is 45 with most values between 40-50 and is normally distributed. To improve on this the bank has to provide special services to senior citizen.\n",
        "It is female who left the bank more than the male. The percentage of female who left the bank is 25%, whereas for male its 16%. We can conclude that the bank does not make females comfortable. The bank will have to provide special female services.\n",
        "The inactive members churned more with 27%. Only 14% active members churned. But active members churning shows that customers must have been unsatisfied for any new policy or some other bank provided a scheme with much better services\n",
        "Most churning of customers happened in Germany with almost 32% of customers leaving the bank. Customers of Germany have the most salary and Balance. This means the bank is not able to cater the elite class with elite services.\n",
        "In spain around half of the females have a balance of zero.\n",
        "### Hypothesis for further investigation\n",
        "-  Age of people who left the bank and who did not are similar. \n",
        "-  Credit score of people who left the bank and who did not are similar. \n",
        "-  Balance of people who left the bank and who did not are similar. \n",
        "-  Estimated Salary of people who left the bank and who did not are similar."
      ]
    },
    {
      "cell_type": "code",
      "metadata": {
        "id": "Xlm9S8NehQ8L",
        "colab_type": "code",
        "colab": {}
      },
      "source": [
        ""
      ],
      "execution_count": 0,
      "outputs": []
    }
  ]
}