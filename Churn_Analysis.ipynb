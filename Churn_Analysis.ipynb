{
  "nbformat": 4,
  "nbformat_minor": 0,
  "metadata": {
    "colab": {
      "name": "Churn-Analysis.ipynb",
      "provenance": [],
      "collapsed_sections": [],
      "include_colab_link": true
    },
    "kernelspec": {
      "name": "python3",
      "display_name": "Python 3"
    },
    "accelerator": "GPU"
  },
  "cells": [
    {
      "cell_type": "markdown",
      "metadata": {
        "id": "view-in-github",
        "colab_type": "text"
      },
      "source": [
        "<a href=\"https://colab.research.google.com/github/dzurel/Churn/blob/master/Churn_Analysis.ipynb\" target=\"_parent\"><img src=\"https://colab.research.google.com/assets/colab-badge.svg\" alt=\"Open In Colab\"/></a>"
      ]
    },
    {
      "cell_type": "code",
      "metadata": {
        "id": "GHfbyNlQFzrb",
        "colab_type": "code",
        "colab": {}
      },
      "source": [
        "import numpy as np # linear algebra\n",
        "import pandas as pd # data processing, CSV file I/O (e.g. pd.read_csv)\n",
        "import pandas as pd\n",
        "import numpy as np\n",
        "import random\n",
        "import seaborn as sns\n",
        "import matplotlib.pyplot as plt\n",
        "import scipy.stats as stats\n",
        "import pylab\n",
        "pd.set_option('display.max_columns', None)"
      ],
      "execution_count": 0,
      "outputs": []
    },
    {
      "cell_type": "code",
      "metadata": {
        "id": "1efB6pZHEsXe",
        "colab_type": "code",
        "outputId": "36f3440b-3f07-4ade-cb57-a51b47e50fb6",
        "colab": {
          "base_uri": "https://localhost:8080/",
          "height": 204
        }
      },
      "source": [
        "df = pd.read_csv(\"https://raw.githubusercontent.com/dzurel/Churn/master/Churn_Modelling.csv\")\n",
        "df.head()"
      ],
      "execution_count": 2,
      "outputs": [
        {
          "output_type": "execute_result",
          "data": {
            "text/html": [
              "<div>\n",
              "<style scoped>\n",
              "    .dataframe tbody tr th:only-of-type {\n",
              "        vertical-align: middle;\n",
              "    }\n",
              "\n",
              "    .dataframe tbody tr th {\n",
              "        vertical-align: top;\n",
              "    }\n",
              "\n",
              "    .dataframe thead th {\n",
              "        text-align: right;\n",
              "    }\n",
              "</style>\n",
              "<table border=\"1\" class=\"dataframe\">\n",
              "  <thead>\n",
              "    <tr style=\"text-align: right;\">\n",
              "      <th></th>\n",
              "      <th>RowNumber</th>\n",
              "      <th>CustomerId</th>\n",
              "      <th>Surname</th>\n",
              "      <th>CreditScore</th>\n",
              "      <th>Geography</th>\n",
              "      <th>Gender</th>\n",
              "      <th>Age</th>\n",
              "      <th>Tenure</th>\n",
              "      <th>Balance</th>\n",
              "      <th>NumOfProducts</th>\n",
              "      <th>HasCrCard</th>\n",
              "      <th>IsActiveMember</th>\n",
              "      <th>EstimatedSalary</th>\n",
              "      <th>Exited</th>\n",
              "    </tr>\n",
              "  </thead>\n",
              "  <tbody>\n",
              "    <tr>\n",
              "      <th>0</th>\n",
              "      <td>1</td>\n",
              "      <td>15634602</td>\n",
              "      <td>Hargrave</td>\n",
              "      <td>619</td>\n",
              "      <td>France</td>\n",
              "      <td>Female</td>\n",
              "      <td>42</td>\n",
              "      <td>2</td>\n",
              "      <td>0.00</td>\n",
              "      <td>1</td>\n",
              "      <td>1</td>\n",
              "      <td>1</td>\n",
              "      <td>101348.88</td>\n",
              "      <td>1</td>\n",
              "    </tr>\n",
              "    <tr>\n",
              "      <th>1</th>\n",
              "      <td>2</td>\n",
              "      <td>15647311</td>\n",
              "      <td>Hill</td>\n",
              "      <td>608</td>\n",
              "      <td>Spain</td>\n",
              "      <td>Female</td>\n",
              "      <td>41</td>\n",
              "      <td>1</td>\n",
              "      <td>83807.86</td>\n",
              "      <td>1</td>\n",
              "      <td>0</td>\n",
              "      <td>1</td>\n",
              "      <td>112542.58</td>\n",
              "      <td>0</td>\n",
              "    </tr>\n",
              "    <tr>\n",
              "      <th>2</th>\n",
              "      <td>3</td>\n",
              "      <td>15619304</td>\n",
              "      <td>Onio</td>\n",
              "      <td>502</td>\n",
              "      <td>France</td>\n",
              "      <td>Female</td>\n",
              "      <td>42</td>\n",
              "      <td>8</td>\n",
              "      <td>159660.80</td>\n",
              "      <td>3</td>\n",
              "      <td>1</td>\n",
              "      <td>0</td>\n",
              "      <td>113931.57</td>\n",
              "      <td>1</td>\n",
              "    </tr>\n",
              "    <tr>\n",
              "      <th>3</th>\n",
              "      <td>4</td>\n",
              "      <td>15701354</td>\n",
              "      <td>Boni</td>\n",
              "      <td>699</td>\n",
              "      <td>France</td>\n",
              "      <td>Female</td>\n",
              "      <td>39</td>\n",
              "      <td>1</td>\n",
              "      <td>0.00</td>\n",
              "      <td>2</td>\n",
              "      <td>0</td>\n",
              "      <td>0</td>\n",
              "      <td>93826.63</td>\n",
              "      <td>0</td>\n",
              "    </tr>\n",
              "    <tr>\n",
              "      <th>4</th>\n",
              "      <td>5</td>\n",
              "      <td>15737888</td>\n",
              "      <td>Mitchell</td>\n",
              "      <td>850</td>\n",
              "      <td>Spain</td>\n",
              "      <td>Female</td>\n",
              "      <td>43</td>\n",
              "      <td>2</td>\n",
              "      <td>125510.82</td>\n",
              "      <td>1</td>\n",
              "      <td>1</td>\n",
              "      <td>1</td>\n",
              "      <td>79084.10</td>\n",
              "      <td>0</td>\n",
              "    </tr>\n",
              "  </tbody>\n",
              "</table>\n",
              "</div>"
            ],
            "text/plain": [
              "   RowNumber  CustomerId   Surname  CreditScore Geography  Gender  Age  \\\n",
              "0          1    15634602  Hargrave          619    France  Female   42   \n",
              "1          2    15647311      Hill          608     Spain  Female   41   \n",
              "2          3    15619304      Onio          502    France  Female   42   \n",
              "3          4    15701354      Boni          699    France  Female   39   \n",
              "4          5    15737888  Mitchell          850     Spain  Female   43   \n",
              "\n",
              "   Tenure    Balance  NumOfProducts  HasCrCard  IsActiveMember  \\\n",
              "0       2       0.00              1          1               1   \n",
              "1       1   83807.86              1          0               1   \n",
              "2       8  159660.80              3          1               0   \n",
              "3       1       0.00              2          0               0   \n",
              "4       2  125510.82              1          1               1   \n",
              "\n",
              "   EstimatedSalary  Exited  \n",
              "0        101348.88       1  \n",
              "1        112542.58       0  \n",
              "2        113931.57       1  \n",
              "3         93826.63       0  \n",
              "4         79084.10       0  "
            ]
          },
          "metadata": {
            "tags": []
          },
          "execution_count": 2
        }
      ]
    },
    {
      "cell_type": "code",
      "metadata": {
        "id": "fqNxFwecHDmW",
        "colab_type": "code",
        "outputId": "21f50c47-7bf0-4556-ae49-2c1fee367455",
        "colab": {
          "base_uri": "https://localhost:8080/",
          "height": 34
        }
      },
      "source": [
        "df.shape"
      ],
      "execution_count": 3,
      "outputs": [
        {
          "output_type": "execute_result",
          "data": {
            "text/plain": [
              "(10000, 14)"
            ]
          },
          "metadata": {
            "tags": []
          },
          "execution_count": 3
        }
      ]
    },
    {
      "cell_type": "code",
      "metadata": {
        "id": "Q2BBYC_7roUB",
        "colab_type": "code",
        "colab": {}
      },
      "source": [
        "df_e0 = df.loc[df.Exited == 0, :]\n",
        "df_e1 = df.loc[df.Exited == 1, :]"
      ],
      "execution_count": 0,
      "outputs": []
    },
    {
      "cell_type": "code",
      "metadata": {
        "id": "NPF3MAm0rU9w",
        "colab_type": "code",
        "colab": {
          "base_uri": "https://localhost:8080/",
          "height": 391
        },
        "outputId": "3b849d69-70fa-4809-aaca-f3a53b9239fd"
      },
      "source": [
        "plt.figure(figsize=(14,12))\n",
        "plt.subplot(2,2,1)\n",
        "sns.distplot(df_e0['Age'])\n",
        "plt.ylabel('PDF')\n",
        "plt.title('Still with Bank')\n",
        "plt.subplot(2,2,2)\n",
        "sns.distplot(df_e1['Age'])\n",
        "plt.ylabel('PDF')\n",
        "plt.title('Left the Bank')\n"
      ],
      "execution_count": 7,
      "outputs": [
        {
          "output_type": "execute_result",
          "data": {
            "text/plain": [
              "Text(0.5, 1.0, 'Left the Bank')"
            ]
          },
          "metadata": {
            "tags": []
          },
          "execution_count": 7
        },
        {
          "output_type": "display_data",
          "data": {
            "image/png": "[encoded data removed]",
            "text/plain": [
              "<Figure size 1008x864 with 2 Axes>"
            ]
          },
          "metadata": {
            "tags": []
          }
        }
      ]
    },
    {
      "cell_type": "code",
      "metadata": {
        "id": "StzaXGl8r784",
        "colab_type": "code",
        "colab": {
          "base_uri": "https://localhost:8080/",
          "height": 296
        },
        "outputId": "97fbda30-9795-4e71-b8df-60d2d30f2492"
      },
      "source": [
        "sns.countplot(df.Gender, hue=df.Exited)"
      ],
      "execution_count": 8,
      "outputs": [
        {
          "output_type": "execute_result",
          "data": {
            "text/plain": [
              "<matplotlib.axes._subplots.AxesSubplot at 0x7fbaab0dfdd8>"
            ]
          },
          "metadata": {
            "tags": []
          },
          "execution_count": 8
        },
        {
          "output_type": "display_data",
          "data": {
            "image/png": "[encoded data removed]",
            "text/plain": [
              "<Figure size 432x288 with 1 Axes>"
            ]
          },
          "metadata": {
            "tags": []
          }
        }
      ]
    },
    {
      "cell_type": "markdown",
      "metadata": {
        "id": "StkJMeiasAA7",
        "colab_type": "text"
      },
      "source": [
        "### Inference\n",
        "More female have left the bank than the male. The percentage of females left the bank is much higher than percentage of men who have left the bank."
      ]
    },
    {
      "cell_type": "code",
      "metadata": {
        "id": "zFL9937isIsI",
        "colab_type": "code",
        "colab": {
          "base_uri": "https://localhost:8080/",
          "height": 34
        },
        "outputId": "135e7908-f375-4717-fb84-861733b2fe74"
      },
      "source": [
        "perc_f_e1 = np.sum(df_e1.Gender == 'Female')*100 / np.sum(df.Gender == 'Female')\n",
        "perc_m_e1 = np.sum(df_e1.Gender == 'Male')*100 / np.sum(df.Gender == 'Male')\n",
        "perc_f_e1, perc_m_e1"
      ],
      "execution_count": 9,
      "outputs": [
        {
          "output_type": "execute_result",
          "data": {
            "text/plain": [
              "(25.071538630860665, 16.455928165658786)"
            ]
          },
          "metadata": {
            "tags": []
          },
          "execution_count": 9
        }
      ]
    },
    {
      "cell_type": "code",
      "metadata": {
        "id": "0Qht6bZCsISk",
        "colab_type": "code",
        "colab": {
          "base_uri": "https://localhost:8080/",
          "height": 296
        },
        "outputId": "9358a878-133c-47b2-a67e-2cd3e323bb25"
      },
      "source": [
        "sns.countplot(df.Geography, hue=df.Exited)"
      ],
      "execution_count": 10,
      "outputs": [
        {
          "output_type": "execute_result",
          "data": {
            "text/plain": [
              "<matplotlib.axes._subplots.AxesSubplot at 0x7fbaaac24160>"
            ]
          },
          "metadata": {
            "tags": []
          },
          "execution_count": 10
        },
        {
          "output_type": "display_data",
          "data": {
            "image/png": "[encoded data removed]",
            "text/plain": [
              "<Figure size 432x288 with 1 Axes>"
            ]
          },
          "metadata": {
            "tags": []
          }
        }
      ]
    },
    {
      "cell_type": "code",
      "metadata": {
        "id": "Xbn9_7Z8s5SK",
        "colab_type": "code",
        "colab": {
          "base_uri": "https://localhost:8080/",
          "height": 34
        },
        "outputId": "ea40631a-fa00-4ff6-9802-88b5409a8325"
      },
      "source": [
        "perc_gf_e1 = np.sum(df_e1.Geography == 'France')*100 / np.sum(df.Geography == 'France')\n",
        "perc_gs_e1 = np.sum(df_e1.Geography == 'Spain')*100 / np.sum(df.Geography == 'Spain')\n",
        "perc_gg_e1 = np.sum(df_e1.Geography == 'Germany')*100 / np.sum(df.Geography == 'Germany')\n",
        "perc_gf_e1, perc_gs_e1, perc_gg_e1"
      ],
      "execution_count": 11,
      "outputs": [
        {
          "output_type": "execute_result",
          "data": {
            "text/plain": [
              "(16.15476665337056, 16.67339523617279, 32.44320446392985)"
            ]
          },
          "metadata": {
            "tags": []
          },
          "execution_count": 11
        }
      ]
    },
    {
      "cell_type": "markdown",
      "metadata": {
        "id": "IrQisffNs8Je",
        "colab_type": "text"
      },
      "source": [
        "### Inference\n",
        "It seems the highest percentage of people left by Geography is from Germany."
      ]
    },
    {
      "cell_type": "code",
      "metadata": {
        "id": "3GFZxWV7aVdz",
        "colab_type": "code",
        "colab": {}
      },
      "source": [
        "X = df.iloc[:,3:-1].values\n",
        "y= df.iloc[:,-1].values\n",
        "\n",
        "\n",
        "#Encoding\n",
        "from sklearn.preprocessing import LabelEncoder, OneHotEncoder\n",
        "\n",
        "le_1= LabelEncoder()\n",
        "X[:,1]=le_1.fit_transform(X[:,1])\n",
        "le_2 = LabelEncoder()\n",
        "X[:,2]=le_2.fit_transform(X[:,2])\n",
        "oh= OneHotEncoder(categorical_features=[1])\n",
        "X=oh.fit_transform(X).toarray()\n",
        "\n",
        "X = X[:,1:]\n",
        "\n",
        "\n",
        "#splitting\n",
        "from sklearn.model_selection import train_test_split\n",
        "X_train, X_test, y_train, y_test = train_test_split(X,y, test_size=0.2, random_state=0)"
      ],
      "execution_count": 0,
      "outputs": []
    },
    {
      "cell_type": "markdown",
      "metadata": {
        "id": "KuFSTGNUIc7L",
        "colab_type": "text"
      },
      "source": [
        "Checking the database to see if there is any null value"
      ]
    },
    {
      "cell_type": "code",
      "metadata": {
        "id": "KqxB6w4GIap5",
        "colab_type": "code",
        "colab": {}
      },
      "source": [
        "df.isnull().sum()"
      ],
      "execution_count": 0,
      "outputs": []
    },
    {
      "cell_type": "code",
      "metadata": {
        "id": "XHcBDa9oaSrx",
        "colab_type": "code",
        "colab": {}
      },
      "source": [
        ""
      ],
      "execution_count": 0,
      "outputs": []
    },
    {
      "cell_type": "markdown",
      "metadata": {
        "id": "Coih3L_6HT_0",
        "colab_type": "text"
      },
      "source": [
        "Dropping unnecessary columns"
      ]
    },
    {
      "cell_type": "code",
      "metadata": {
        "id": "2kzRr4iiHPcA",
        "colab_type": "code",
        "colab": {}
      },
      "source": [
        "df= df.drop(['RowNumber', 'CustomerId', 'Surname'], axis =1)"
      ],
      "execution_count": 0,
      "outputs": []
    },
    {
      "cell_type": "markdown",
      "metadata": {
        "id": "YHJwlIIyHexG",
        "colab_type": "text"
      },
      "source": [
        "We can see that our target column is Exited. Lets examine it."
      ]
    },
    {
      "cell_type": "code",
      "metadata": {
        "id": "ZIaezi7BHY3W",
        "colab_type": "code",
        "colab": {}
      },
      "source": [
        "df.Exited.value_counts()"
      ],
      "execution_count": 0,
      "outputs": []
    },
    {
      "cell_type": "code",
      "metadata": {
        "id": "2X9klWMXHj6R",
        "colab_type": "code",
        "colab": {}
      },
      "source": [
        "df.info()"
      ],
      "execution_count": 0,
      "outputs": []
    },
    {
      "cell_type": "code",
      "metadata": {
        "id": "V7-sOAURIM60",
        "colab_type": "code",
        "colab": {}
      },
      "source": [
        "df.describe()"
      ],
      "execution_count": 0,
      "outputs": []
    },
    {
      "cell_type": "code",
      "metadata": {
        "id": "ElF8M1LhKDlI",
        "colab_type": "code",
        "colab": {}
      },
      "source": [
        "exitcor = df.corr()\n",
        "exitcor[\"Exited\"].sort_values(ascending=False)"
      ],
      "execution_count": 0,
      "outputs": []
    },
    {
      "cell_type": "code",
      "metadata": {
        "id": "fkusOy7NPgAq",
        "colab_type": "code",
        "colab": {}
      },
      "source": [
        "#correlation heatmap of dataset\n",
        "def correlation_heatmap(df):\n",
        "    _ , ax = plt.subplots(figsize =(14, 12))\n",
        "    colormap = sns.diverging_palette(220, 10, as_cmap = True)\n",
        "    \n",
        "    _ = sns.heatmap(\n",
        "        df.corr(), \n",
        "        cmap = colormap,\n",
        "        square=True, \n",
        "        cbar_kws={'shrink':.9 }, \n",
        "        ax=ax,\n",
        "        annot=True, \n",
        "        linewidths=0.1,vmax=1.0, linecolor='white',\n",
        "        annot_kws={'fontsize':12 }\n",
        "    )\n",
        "    \n",
        "    plt.title('Pearson Correlation of Features', y=1.05, size=15)\n",
        "\n",
        "correlation_heatmap(df)"
      ],
      "execution_count": 0,
      "outputs": []
    },
    {
      "cell_type": "markdown",
      "metadata": {
        "id": "Wgb8joYwew_q",
        "colab_type": "text"
      },
      "source": [
        "Using dummies for Making Gender, Geography columns binary."
      ]
    },
    {
      "cell_type": "code",
      "metadata": {
        "id": "va6HKezAS3CH",
        "colab_type": "code",
        "colab": {}
      },
      "source": [
        "dfc =pd.concat([pd.get_dummies(df['Gender'], drop_first =True, prefix='Gender'),\n",
        "              pd.get_dummies(df['Geography'], drop_first=True, prefix ='Geography'),\n",
        "              df.drop(['Gender', 'Geography'], axis =1)], axis =1)"
      ],
      "execution_count": 0,
      "outputs": []
    },
    {
      "cell_type": "code",
      "metadata": {
        "id": "z5nz3cAQ9GcI",
        "colab_type": "code",
        "colab": {}
      },
      "source": [
        "dfc.head()"
      ],
      "execution_count": 0,
      "outputs": []
    },
    {
      "cell_type": "markdown",
      "metadata": {
        "id": "PzzgXBJH9-ZY",
        "colab_type": "text"
      },
      "source": [
        "Splitting the data to rain and test sets and also dropping our target variable Exited."
      ]
    },
    {
      "cell_type": "markdown",
      "metadata": {
        "id": "vU2csHOF9z96",
        "colab_type": "text"
      },
      "source": [
        "Scaling the data using Standard Scaler"
      ]
    },
    {
      "cell_type": "code",
      "metadata": {
        "id": "sCvj9xzt9Kw1",
        "colab_type": "code",
        "colab": {}
      },
      "source": [
        "#Scaling\n",
        "from sklearn.preprocessing import StandardScaler\n",
        "sc_X = StandardScaler()\n",
        "X_train = sc_X.fit_transform(X_train)\n",
        "X_test = sc_X.transform(X_test)"
      ],
      "execution_count": 0,
      "outputs": []
    },
    {
      "cell_type": "markdown",
      "metadata": {
        "id": "1APuVbRV_RWc",
        "colab_type": "text"
      },
      "source": [
        "### **Modeling and Evaluating**\n",
        "\n"
      ]
    },
    {
      "cell_type": "markdown",
      "metadata": {
        "id": "S8xubql3_dXD",
        "colab_type": "text"
      },
      "source": [
        "### XGBOOST"
      ]
    },
    {
      "cell_type": "code",
      "metadata": {
        "id": "TCh0GG6K92yg",
        "colab_type": "code",
        "colab": {}
      },
      "source": [
        "from sklearn.metrics import roc_auc_score\n",
        "\n",
        "import xgboost as xgb\n",
        "xgb_model = xgb.XGBClassifier()\n",
        "xgb_model.fit(X_train, y_train)\n",
        "y_pred = xgb_model.predict_proba(X_train)\n",
        "print(roc_auc_score(y_train, y_pred[:,1]))\n",
        "\n",
        "y_pred = xgb_model.predict_proba(X_test)\n",
        "print(roc_auc_score(y_test, y_pred[:,1]))"
      ],
      "execution_count": 0,
      "outputs": []
    },
    {
      "cell_type": "markdown",
      "metadata": {
        "id": "Bf4z2ElsIaDl",
        "colab_type": "text"
      },
      "source": [
        "### AdaBoost"
      ]
    },
    {
      "cell_type": "code",
      "metadata": {
        "id": "Uzm7xACR_bUe",
        "colab_type": "code",
        "colab": {}
      },
      "source": [
        "from sklearn.ensemble import AdaBoostClassifier\n",
        "ada = AdaBoostClassifier()\n",
        "ada.fit(X_train, y_train)\n",
        "y_pred =ada.predict_proba(X_train)\n",
        "print(roc_auc_score(y_train, y_pred[:,1]))\n",
        "\n",
        "y_pred = ada.predict_proba(X_test)\n",
        "print(roc_auc_score(y_test, y_pred[:,1]))"
      ],
      "execution_count": 0,
      "outputs": []
    },
    {
      "cell_type": "markdown",
      "metadata": {
        "id": "pyd-X5n7IkqH",
        "colab_type": "text"
      },
      "source": [
        "### Gradient Boosting"
      ]
    },
    {
      "cell_type": "code",
      "metadata": {
        "id": "Pn80yfDXIe8A",
        "colab_type": "code",
        "colab": {}
      },
      "source": [
        "from sklearn.ensemble import GradientBoostingClassifier\n",
        "GBC =GradientBoostingClassifier()\n",
        "\n",
        "GBC.fit(X_train, y_train)\n",
        "y_pred =GBC.predict_proba(X_train)\n",
        "print(roc_auc_score(y_train, y_pred[:,1]))\n",
        "\n",
        "y_pred = GBC.predict_proba(X_test)\n",
        "print(roc_auc_score(y_test, y_pred[:,1]))"
      ],
      "execution_count": 0,
      "outputs": []
    },
    {
      "cell_type": "markdown",
      "metadata": {
        "id": "OF7qoUn_Iqn6",
        "colab_type": "text"
      },
      "source": [
        "### Logistic Regression"
      ]
    },
    {
      "cell_type": "code",
      "metadata": {
        "id": "U3MTsWL5InTb",
        "colab_type": "code",
        "colab": {}
      },
      "source": [
        "from sklearn.linear_model import LogisticRegression\n",
        "lr = LogisticRegression(solver = \"liblinear\")\n",
        "y_pred =GBC.predict_proba(X_train)\n",
        "y_pred =GBC.predict_proba(X_train)\n",
        "lr.fit(X_train, y_train)\n",
        "y_pred =GBC.predict_proba(X_train)\n",
        "y_pred = lr.predict_proba(X_train)\n",
        "print(roc_auc_score(y_train, y_pred[:,1]))\n",
        "\n",
        "y_pred = lr.predict_proba(X_test)\n",
        "print(roc_auc_score(y_test, y_pred[:,1]))"
      ],
      "execution_count": 0,
      "outputs": []
    },
    {
      "cell_type": "markdown",
      "metadata": {
        "id": "tfLkyBpgM8He",
        "colab_type": "text"
      },
      "source": [
        "### ANN"
      ]
    },
    {
      "cell_type": "code",
      "metadata": {
        "id": "WVFwsrg7Itbd",
        "colab_type": "code",
        "colab": {}
      },
      "source": [
        "import keras\n",
        "from keras.models import Sequential\n",
        "from keras.layers import Dense\n",
        "import tensorflow.compat.v1 as tf\n",
        "tf.disable_v2_behavior()\n",
        "classifier = Sequential()"
      ],
      "execution_count": 0,
      "outputs": []
    },
    {
      "cell_type": "code",
      "metadata": {
        "id": "be6Yi7F_M-JU",
        "colab_type": "code",
        "colab": {}
      },
      "source": [
        "#Add Sequential Layers\n",
        "\n",
        "classifier.add(Dense(output_dim = 6, init='uniform' , activation = 'relu', input_dim = 11 ))\n",
        "classifier.add(Dense(output_dim = 6, init='uniform' , activation = 'relu' ))\n",
        "classifier.add(Dense(output_dim = 1, init='uniform' , activation = 'sigmoid'))"
      ],
      "execution_count": 0,
      "outputs": []
    },
    {
      "cell_type": "code",
      "metadata": {
        "id": "5zK8wAGxNGn6",
        "colab_type": "code",
        "colab": {}
      },
      "source": [
        " #Compile the ANN\n",
        "classifier.compile(optimizer = 'adam', loss= 'binary_crossentropy', metrics = ['accuracy'] )\n",
        "\n",
        "#fit \n",
        "classifier.fit(X_train, y_train, batch_size= 10, epochs= 100)\n",
        "\n",
        "#predict\n",
        "y_pred= classifier.predict(X_test)\n",
        "\n",
        "#Confusion Matrix\n",
        "from sklearn.metrics import confusion_matrix\n",
        "cm = confusion_matrix(y_test, y_pred>0.5)"
      ],
      "execution_count": 0,
      "outputs": []
    },
    {
      "cell_type": "markdown",
      "metadata": {
        "id": "PBRbYoGYhrMk",
        "colab_type": "text"
      },
      "source": [
        "Ok we can predict if a customer is going to churn not not with %86.3 accuracy which is pretty nice."
      ]
    },
    {
      "cell_type": "markdown",
      "metadata": {
        "id": "qV8m6FXFtNgk",
        "colab_type": "text"
      },
      "source": [
        "### We can now conclude our findings\n",
        "The median age of people whom the bank retained is 37 with most values between 30-40. The median age of people who exited the bank is 45 with most values between 40-50 and is normally distributed. To improve on this the bank has to provide special services to senior citizen.\n",
        "It is female who left the bank more than the male. The percentage of female who left the bank is 25%, whereas for male its 16%. We can conclude that the bank does not make females comfortable. The bank will have to provide special female services.\n",
        "The inactive members churned more with 27%. Only 14% active members churned. But active members churning shows that customers must have been unsatisfied for any new policy or some other bank provided a scheme with much better services\n",
        "Most churning of customers happened in Germany with almost 32% of customers leaving the bank. Customers of Germany have the most salary and Balance. This means the bank is not able to cater the elite class with elite services.\n",
        "In spain around half of the females have a balance of zero.\n",
        "### Hypothesis for further investigation\n",
        "-  Age of people who left the bank and who did not are similar. \n",
        "-  Credit score of people who left the bank and who did not are similar. \n",
        "-  Balance of people who left the bank and who did not are similar. \n",
        "-  Estimated Salary of people who left the bank and who did not are similar."
      ]
    },
    {
      "cell_type": "code",
      "metadata": {
        "id": "Xlm9S8NehQ8L",
        "colab_type": "code",
        "colab": {}
      },
      "source": [
        ""
      ],
      "execution_count": 0,
      "outputs": []
    }
  ]
}